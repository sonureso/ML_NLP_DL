{
 "cells": [
  {
   "cell_type": "code",
   "execution_count": 1,
   "metadata": {},
   "outputs": [],
   "source": [
    "import pandas as pd\n",
    "import boto3"
   ]
  },
  {
   "cell_type": "code",
   "execution_count": 2,
   "metadata": {},
   "outputs": [],
   "source": [
    "#Getting access key and id: \n",
    "key = pd.read_csv('Taragi-Mahendra.csv')\n",
    "key_id = key['Access key ID'].values[0]\n",
    "access_key = key['Secret access key'].values[0]"
   ]
  },
  {
   "cell_type": "code",
   "execution_count": 3,
   "metadata": {},
   "outputs": [],
   "source": [
    "client = boto3.client('rekognition',aws_access_key_id=key_id,aws_secret_access_key=access_key,region_name='ap-south-1') #ap-south-1\n",
    "s3 = boto3.client('s3',aws_access_key_id=key_id,aws_secret_access_key=access_key,region_name='ap-south-1')"
   ]
  },
  {
   "cell_type": "code",
   "execution_count": 8,
   "metadata": {
    "scrolled": true
   },
   "outputs": [
    {
     "data": {
      "text/plain": [
       "{'ResponseMetadata': {'RequestId': '0D9E6C450DD2AA13',\n",
       "  'HostId': 'ZuOpR4yRu41Kp+QDPJdsgE1C13w4AAi4d2sXzCZ34zF0dHJEWoEMeGZEQviRxcjys6iMX6mtZYc=',\n",
       "  'HTTPStatusCode': 200,\n",
       "  'HTTPHeaders': {'x-amz-id-2': 'ZuOpR4yRu41Kp+QDPJdsgE1C13w4AAi4d2sXzCZ34zF0dHJEWoEMeGZEQviRxcjys6iMX6mtZYc=',\n",
       "   'x-amz-request-id': '0D9E6C450DD2AA13',\n",
       "   'date': 'Wed, 24 Jul 2019 06:45:09 GMT',\n",
       "   'x-amz-bucket-region': 'ap-south-1',\n",
       "   'content-type': 'application/xml',\n",
       "   'transfer-encoding': 'chunked',\n",
       "   'server': 'AmazonS3'},\n",
       "  'RetryAttempts': 0},\n",
       " 'IsTruncated': False,\n",
       " 'Marker': '',\n",
       " 'Contents': [{'Key': '02.jpg',\n",
       "   'LastModified': datetime.datetime(2019, 7, 24, 6, 44, 32, tzinfo=tzutc()),\n",
       "   'ETag': '\"e0c8932cd16c781c7deac8c4b955f952\"',\n",
       "   'Size': 45406,\n",
       "   'StorageClass': 'STANDARD',\n",
       "   'Owner': {'ID': 'b8fd801a6e0aef6a7bd36be70abf2df57467c1618fbff8b4d6b75e389d3e9735'}},\n",
       "  {'Key': '04.jpg',\n",
       "   'LastModified': datetime.datetime(2019, 7, 24, 6, 44, 15, tzinfo=tzutc()),\n",
       "   'ETag': '\"227310f7a37cd8f27317ab83801b4a52\"',\n",
       "   'Size': 45791,\n",
       "   'StorageClass': 'STANDARD',\n",
       "   'Owner': {'ID': 'b8fd801a6e0aef6a7bd36be70abf2df57467c1618fbff8b4d6b75e389d3e9735'}},\n",
       "  {'Key': '05.jpg',\n",
       "   'LastModified': datetime.datetime(2019, 7, 24, 6, 45, 5, tzinfo=tzutc()),\n",
       "   'ETag': '\"575cde371151490f9d862de2ab86c8fa\"',\n",
       "   'Size': 48015,\n",
       "   'StorageClass': 'STANDARD',\n",
       "   'Owner': {'ID': 'b8fd801a6e0aef6a7bd36be70abf2df57467c1618fbff8b4d6b75e389d3e9735'}},\n",
       "  {'Key': '07.jpg',\n",
       "   'LastModified': datetime.datetime(2019, 7, 23, 9, 27, 7, tzinfo=tzutc()),\n",
       "   'ETag': '\"6a9babe77c3b950c06f67401fcd4173c\"',\n",
       "   'Size': 52172,\n",
       "   'StorageClass': 'STANDARD',\n",
       "   'Owner': {'ID': 'b8fd801a6e0aef6a7bd36be70abf2df57467c1618fbff8b4d6b75e389d3e9735'}},\n",
       "  {'Key': 'input2.mp4',\n",
       "   'LastModified': datetime.datetime(2019, 7, 23, 9, 33, 37, tzinfo=tzutc()),\n",
       "   'ETag': '\"d3ae95214e3c587b5f155928d63a4172\"',\n",
       "   'Size': 8072596,\n",
       "   'StorageClass': 'STANDARD',\n",
       "   'Owner': {'ID': 'b8fd801a6e0aef6a7bd36be70abf2df57467c1618fbff8b4d6b75e389d3e9735'}}],\n",
       " 'Name': 'sonuresob3',\n",
       " 'Prefix': '',\n",
       " 'MaxKeys': 1000,\n",
       " 'EncodingType': 'url'}"
      ]
     },
     "execution_count": 8,
     "metadata": {},
     "output_type": "execute_result"
    }
   ],
   "source": [
    "s3.list_objects(Bucket='sonuresob3')"
   ]
  },
  {
   "cell_type": "code",
   "execution_count": 9,
   "metadata": {},
   "outputs": [],
   "source": [
    "#Uploading file to bucket\n",
    "#filename = '05.jpg'\n",
    "#bucket_name = 'sonuresob3'\n",
    "#newname = '05.jpg'\n",
    "#response3 = s3.upload_file(filename, bucket_name, newname)"
   ]
  },
  {
   "cell_type": "markdown",
   "metadata": {},
   "source": [
    "    Handling Collections:"
   ]
  },
  {
   "cell_type": "code",
   "execution_count": 19,
   "metadata": {},
   "outputs": [
    {
     "data": {
      "text/plain": [
       "{'CollectionIds': ['c_01'],\n",
       " 'FaceModelVersions': ['4.0'],\n",
       " 'ResponseMetadata': {'RequestId': 'b112f627-ade0-11e9-9a98-bd6656ff48e9',\n",
       "  'HTTPStatusCode': 200,\n",
       "  'HTTPHeaders': {'content-type': 'application/x-amz-json-1.1',\n",
       "   'date': 'Wed, 24 Jul 2019 07:00:16 GMT',\n",
       "   'x-amzn-requestid': 'b112f627-ade0-11e9-9a98-bd6656ff48e9',\n",
       "   'content-length': '54',\n",
       "   'connection': 'keep-alive'},\n",
       "  'RetryAttempts': 0}}"
      ]
     },
     "execution_count": 19,
     "metadata": {},
     "output_type": "execute_result"
    }
   ],
   "source": [
    "#Getting List of collections\n",
    "client.list_collections(# NextToken='string',\n",
    "    MaxResults=123\n",
    ")"
   ]
  },
  {
   "cell_type": "code",
   "execution_count": 13,
   "metadata": {},
   "outputs": [
    {
     "name": "stdout",
     "output_type": "stream",
     "text": [
      "Creating collection: c_01\n",
      "Collection ARN: aws:rekognition:ap-south-1:137360334857:collection/c_01\n",
      "Status code: 200\n",
      "Done...\n"
     ]
    }
   ],
   "source": [
    "#Create a collection\n",
    "#collectionId = 'c_01'\n",
    "#print('Creating collection: ' + collectionId)\n",
    "#response=client.create_collection(CollectionId=collectionId)\n",
    "#print('Collection ARN: ' + response['CollectionArn'])\n",
    "#print('Status code: ' + str(response['StatusCode']))\n",
    "#print('Done...')"
   ]
  },
  {
   "cell_type": "code",
   "execution_count": 14,
   "metadata": {},
   "outputs": [
    {
     "data": {
      "text/plain": [
       "{'StatusCode': 200,\n",
       " 'CollectionArn': 'aws:rekognition:ap-south-1:137360334857:collection/c_01',\n",
       " 'FaceModelVersion': '4.0',\n",
       " 'ResponseMetadata': {'RequestId': '37c2b500-addf-11e9-b500-e18a9cccf93a',\n",
       "  'HTTPStatusCode': 200,\n",
       "  'HTTPHeaders': {'content-type': 'application/x-amz-json-1.1',\n",
       "   'date': 'Wed, 24 Jul 2019 06:49:42 GMT',\n",
       "   'x-amzn-requestid': '37c2b500-addf-11e9-b500-e18a9cccf93a',\n",
       "   'content-length': '117',\n",
       "   'connection': 'keep-alive'},\n",
       "  'RetryAttempts': 0}}"
      ]
     },
     "execution_count": 14,
     "metadata": {},
     "output_type": "execute_result"
    }
   ],
   "source": [
    "response"
   ]
  },
  {
   "cell_type": "code",
   "execution_count": 18,
   "metadata": {},
   "outputs": [
    {
     "name": "stdout",
     "output_type": "stream",
     "text": [
      "Results for person_01\n",
      "Faces indexed:\n",
      "  Face ID: 0e761a29-6313-409f-a811-8c3e576e2f0c\n",
      "  Location: {'Width': 0.1779618263244629, 'Height': 0.3592563271522522, 'Left': 0.5863519906997681, 'Top': 0.15845666825771332}\n",
      "Faces not indexed:\n"
     ]
    }
   ],
   "source": [
    "# applying indexFaces on images to add faces to collection:\n",
    "photo = 'person_01'  #id to the face to be indexed\n",
    "response2=client.index_faces(CollectionId='c_01',\n",
    "                                Image={'S3Object':{'Bucket':'sonuresob3','Name':'04.jpg'}},\n",
    "                                ExternalImageId=photo,\n",
    "                                MaxFaces=3,\n",
    "                                QualityFilter=\"AUTO\",\n",
    "                                DetectionAttributes=['ALL'])\n",
    "\n",
    "print ('Results for ' + photo) \n",
    "print('Faces indexed:')\n",
    "for faceRecord in response2['FaceRecords']:\n",
    "    print('  Face ID: ' + faceRecord['Face']['FaceId'])\n",
    "    print('  Location: {}'.format(faceRecord['Face']['BoundingBox']))\n",
    "    \n",
    "print('Faces not indexed:')\n",
    "for unindexedFace in response2['UnindexedFaces']:\n",
    "    print(' Location: {}'.format(unindexedFace['FaceDetail']['BoundingBox']))\n",
    "    print(' Reasons:')\n",
    "    for reason in unindexedFace['Reasons']:\n",
    "        print('   ' + reason)"
   ]
  },
  {
   "cell_type": "code",
   "execution_count": 20,
   "metadata": {},
   "outputs": [
    {
     "data": {
      "text/plain": [
       "{'Faces': [{'FaceId': '0e761a29-6313-409f-a811-8c3e576e2f0c',\n",
       "   'BoundingBox': {'Width': 0.17796200513839722,\n",
       "    'Height': 0.35925599932670593,\n",
       "    'Left': 0.5863519906997681,\n",
       "    'Top': 0.15845699608325958},\n",
       "   'ImageId': '977faa2d-b759-32bc-9a81-47d67bafd02b',\n",
       "   'ExternalImageId': 'person_01',\n",
       "   'Confidence': 100.0}],\n",
       " 'FaceModelVersion': '4.0',\n",
       " 'ResponseMetadata': {'RequestId': 'f965f9e1-ade0-11e9-a37b-03c8b33e1a81',\n",
       "  'HTTPStatusCode': 200,\n",
       "  'HTTPHeaders': {'content-type': 'application/x-amz-json-1.1',\n",
       "   'date': 'Wed, 24 Jul 2019 07:02:17 GMT',\n",
       "   'x-amzn-requestid': 'f965f9e1-ade0-11e9-a37b-03c8b33e1a81',\n",
       "   'content-length': '309',\n",
       "   'connection': 'keep-alive'},\n",
       "  'RetryAttempts': 0}}"
      ]
     },
     "execution_count": 20,
     "metadata": {},
     "output_type": "execute_result"
    }
   ],
   "source": [
    "#Getting all faces in the list:\n",
    "response3 = client.list_faces(\n",
    "    CollectionId='c_01',\n",
    "    #NextToken='string',\n",
    "    MaxResults=123\n",
    ")\n",
    "response3"
   ]
  },
  {
   "cell_type": "markdown",
   "metadata": {},
   "source": [
    "    Search the faces in the collections:"
   ]
  },
  {
   "cell_type": "code",
   "execution_count": 25,
   "metadata": {},
   "outputs": [
    {
     "name": "stdout",
     "output_type": "stream",
     "text": [
      "Matching faces: \n",
      "FaceId:0e761a29-6313-409f-a811-8c3e576e2f0c\n",
      "Similarity: 58.52%\n"
     ]
    }
   ],
   "source": [
    "response4=client.search_faces_by_image(CollectionId='c_01',\n",
    "                                Image={'S3Object':{'Bucket':'sonuresob3','Name':'02.jpg'}},\n",
    "                                FaceMatchThreshold=50,\n",
    "                                MaxFaces=2)\n",
    "\n",
    "faceMatches=response4['FaceMatches']\n",
    "print ('Matching faces: ')\n",
    "for match in faceMatches:\n",
    "    print ('FaceId:' + match['Face']['FaceId'])\n",
    "    print ('Similarity: ' + \"{:.2f}\".format(match['Similarity']) + \"%\")"
   ]
  },
  {
   "cell_type": "code",
   "execution_count": 24,
   "metadata": {},
   "outputs": [
    {
     "data": {
      "text/plain": [
       "{'SearchedFaceBoundingBox': {'Width': 0.1426212340593338,\n",
       "  'Height': 0.37902793288230896,\n",
       "  'Left': 0.599341630935669,\n",
       "  'Top': 0.23500259220600128},\n",
       " 'SearchedFaceConfidence': 100.0,\n",
       " 'FaceMatches': [{'Similarity': 58.51525115966797,\n",
       "   'Face': {'FaceId': '0e761a29-6313-409f-a811-8c3e576e2f0c',\n",
       "    'BoundingBox': {'Width': 0.17796200513839722,\n",
       "     'Height': 0.35925599932670593,\n",
       "     'Left': 0.5863519906997681,\n",
       "     'Top': 0.15845699608325958},\n",
       "    'ImageId': '977faa2d-b759-32bc-9a81-47d67bafd02b',\n",
       "    'ExternalImageId': 'person_01',\n",
       "    'Confidence': 100.0}}],\n",
       " 'FaceModelVersion': '4.0',\n",
       " 'ResponseMetadata': {'RequestId': '3a674090-ade2-11e9-90de-fbfe2435d97b',\n",
       "  'HTTPStatusCode': 200,\n",
       "  'HTTPHeaders': {'content-type': 'application/x-amz-json-1.1',\n",
       "   'date': 'Wed, 24 Jul 2019 07:11:17 GMT',\n",
       "   'x-amzn-requestid': '3a674090-ade2-11e9-90de-fbfe2435d97b',\n",
       "   'content-length': '521',\n",
       "   'connection': 'keep-alive'},\n",
       "  'RetryAttempts': 0}}"
      ]
     },
     "execution_count": 24,
     "metadata": {},
     "output_type": "execute_result"
    }
   ],
   "source": [
    "response4"
   ]
  },
  {
   "cell_type": "code",
   "execution_count": 41,
   "metadata": {},
   "outputs": [
    {
     "name": "stdout",
     "output_type": "stream",
     "text": [
      "Faces indexed:\n",
      "  Face ID: 977c72c3-3bf0-4d7d-b1d0-e868014b229c\n",
      "  Location: {'Width': 0.1779618263244629, 'Height': 0.3592563271522522, 'Left': 0.5863519906997681, 'Top': 0.15845666825771332}\n",
      "Faces not indexed:\n"
     ]
    }
   ],
   "source": [
    "# Again applying indexFaces on images to add searched image to collection:\n",
    "photo = 'person_02'  #id to the face to be indexed\n",
    "response2=client.index_faces(CollectionId='c_01',\n",
    "                                Image={'S3Object':{'Bucket':'sonuresob3','Name':'04.jpg'}},\n",
    "                           #     ExternalImageId=photo,\n",
    "                                MaxFaces=3,\n",
    "                                QualityFilter=\"AUTO\",\n",
    "                                DetectionAttributes=['ALL'])\n",
    "\n",
    "#print ('Results for ' + photo) \n",
    "print('Faces indexed:')\n",
    "for faceRecord in response2['FaceRecords']:\n",
    "    print('  Face ID: ' + faceRecord['Face']['FaceId'])\n",
    "    print('  Location: {}'.format(faceRecord['Face']['BoundingBox']))\n",
    "    \n",
    "print('Faces not indexed:')\n",
    "for unindexedFace in response2['UnindexedFaces']:\n",
    "    print(' Location: {}'.format(unindexedFace['FaceDetail']['BoundingBox']))\n",
    "    print(' Reasons:')\n",
    "    for reason in unindexedFace['Reasons']:\n",
    "        print('   ' + reason)"
   ]
  },
  {
   "cell_type": "code",
   "execution_count": 40,
   "metadata": {},
   "outputs": [
    {
     "name": "stdout",
     "output_type": "stream",
     "text": [
      "Matching faces: \n",
      "FaceId:0e761a29-6313-409f-a811-8c3e576e2f0c\n",
      "Similarity: 100.00%\n",
      "FaceId:977c72c3-3bf0-4d7d-b1d0-e868014b229c\n",
      "Similarity: 100.00%\n",
      "FaceId:26dda64a-de7a-481a-a798-64d47bbf7d63\n",
      "Similarity: 99.72%\n",
      "FaceId:f0ef5971-760f-4ec4-828f-ca037ab1ec6a\n",
      "Similarity: 99.72%\n"
     ]
    }
   ],
   "source": [
    "#again searching for the indexed images: \n",
    "response4=client.search_faces_by_image(CollectionId='c_01',\n",
    "                                Image={'S3Object':{'Bucket':'sonuresob3','Name':'04.jpg'}},\n",
    "                                FaceMatchThreshold=50,\n",
    "                                MaxFaces=4)\n",
    "\n",
    "faceMatches=response4['FaceMatches']\n",
    "print ('Matching faces: ')\n",
    "for match in faceMatches:\n",
    "    print ('FaceId:' + match['Face']['FaceId'])\n",
    "    print ('Similarity: ' + \"{:.2f}\".format(match['Similarity']) + \"%\")"
   ]
  },
  {
   "cell_type": "code",
   "execution_count": null,
   "metadata": {},
   "outputs": [],
   "source": []
  },
  {
   "cell_type": "code",
   "execution_count": null,
   "metadata": {},
   "outputs": [],
   "source": []
  },
  {
   "cell_type": "code",
   "execution_count": null,
   "metadata": {},
   "outputs": [],
   "source": []
  },
  {
   "cell_type": "code",
   "execution_count": null,
   "metadata": {},
   "outputs": [],
   "source": []
  },
  {
   "cell_type": "code",
   "execution_count": null,
   "metadata": {},
   "outputs": [],
   "source": []
  },
  {
   "cell_type": "code",
   "execution_count": null,
   "metadata": {},
   "outputs": [],
   "source": []
  },
  {
   "cell_type": "code",
   "execution_count": null,
   "metadata": {},
   "outputs": [],
   "source": []
  },
  {
   "cell_type": "code",
   "execution_count": null,
   "metadata": {},
   "outputs": [],
   "source": [
    "Salman: \n",
    "    4c4f5d12-d323-486b-ac64-c2857fa0f97a   \n",
    "    48bbcbfb-c7f6-454e-bfe9-5c449ad1e655\n",
    "ShahRukh:\n",
    "    f0ef5971-760f-4ec4-828f-ca037ab1ec6a\n",
    "    0e761a29-6313-409f-a811-8c3e576e2f0c\n",
    "    977c72c3-3bf0-4d7d-b1d0-e868014b229c   - 04.jpg\n",
    "    977c72c3-3bf0-4d7d-b1d0-e868014b229c\n",
    "    26dda64a-de7a-481a-a798-64d47bbf7d63\n",
    "\n"
   ]
  }
 ],
 "metadata": {
  "kernelspec": {
   "display_name": "Python 3",
   "language": "python",
   "name": "python3"
  },
  "language_info": {
   "codemirror_mode": {
    "name": "ipython",
    "version": 3
   },
   "file_extension": ".py",
   "mimetype": "text/x-python",
   "name": "python",
   "nbconvert_exporter": "python",
   "pygments_lexer": "ipython3",
   "version": "3.7.3"
  }
 },
 "nbformat": 4,
 "nbformat_minor": 2
}
