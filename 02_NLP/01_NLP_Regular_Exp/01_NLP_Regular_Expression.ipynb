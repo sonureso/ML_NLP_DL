{
 "cells": [
  {
   "cell_type": "markdown",
   "metadata": {},
   "source": [
    "    01-Regular Expressions:"
   ]
  },
  {
   "cell_type": "code",
   "execution_count": 12,
   "metadata": {},
   "outputs": [],
   "source": [
    "import re\n",
    "\n",
    "st = \"Tiger is the national animal of india\"\n",
    "pattern = \"Tiger\"\n"
   ]
  },
  {
   "cell_type": "code",
   "execution_count": 13,
   "metadata": {},
   "outputs": [
    {
     "name": "stdout",
     "output_type": "stream",
     "text": [
      "<re.Match object; span=(0, 5), match='Tiger'>\n",
      "Tiger\n"
     ]
    }
   ],
   "source": [
    "# match: It searches for the pattern in the starting of the string:\n",
    "print(re.match(pattern,st))\n",
    "print(re.match(pattern,st).group(0))"
   ]
  },
  {
   "cell_type": "code",
   "execution_count": 10,
   "metadata": {},
   "outputs": [
    {
     "name": "stdout",
     "output_type": "stream",
     "text": [
      "national\n"
     ]
    }
   ],
   "source": [
    "#search: It searches for the pattern anywhere in the string:\n",
    "pattern = \"national\"\n",
    "print(re.search(pattern,st).group(0))"
   ]
  },
  {
   "cell_type": "code",
   "execution_count": 17,
   "metadata": {},
   "outputs": [
    {
     "name": "stdout",
     "output_type": "stream",
     "text": [
      "['national', 'national']\n"
     ]
    }
   ],
   "source": [
    "#find:  It finds all the occurances of the pattern:\n",
    "st = \"Tiger is the national animal of india and national sports is hockey.\"\n",
    "pattern = \"national\"\n",
    "print(re.findall(pattern,st))"
   ]
  },
  {
   "cell_type": "code",
   "execution_count": 21,
   "metadata": {},
   "outputs": [
    {
     "name": "stdout",
     "output_type": "stream",
     "text": [
      "13\n",
      "42\n"
     ]
    }
   ],
   "source": [
    "#finditer: It finds all the occurances of the pattern and returns the idexes of the occurances:\n",
    "st = \"Tiger is the national animal of india and national sports is hockey.\"\n",
    "pattern = \"national\"\n",
    "x = re.finditer(pattern,st)\n",
    "for y in x:\n",
    "    print(y.start())"
   ]
  },
  {
   "cell_type": "code",
   "execution_count": 23,
   "metadata": {},
   "outputs": [
    {
     "data": {
      "text/plain": [
       "['12-09-1992', '15-12-1995']"
      ]
     },
     "execution_count": 23,
     "metadata": {},
     "output_type": "execute_result"
    }
   ],
   "source": [
    "# Using Patterns:\n",
    "st = \"Ron was born on 12-09-1992 and he was admitted to school on 15-12-1995\"\n",
    "pattern = \"\\d{2}-\\d{2}-\\d{4}\"\n",
    "re.findall(pattern,st)"
   ]
  },
  {
   "cell_type": "code",
   "execution_count": 24,
   "metadata": {},
   "outputs": [
    {
     "data": {
      "text/plain": [
       "'Ron was born on Monday and he was admitted to school on Monday'"
      ]
     },
     "execution_count": 24,
     "metadata": {},
     "output_type": "execute_result"
    }
   ],
   "source": [
    "# re.sub: this substitue for a specific pattern.\n",
    "re.sub(pattern,\"Monday\",st)"
   ]
  },
  {
   "cell_type": "code",
   "execution_count": 33,
   "metadata": {},
   "outputs": [
    {
     "data": {
      "text/plain": [
       "['abcdefgh@indiatoday', 'xyzefg@doit']"
      ]
     },
     "execution_count": 33,
     "metadata": {},
     "output_type": "execute_result"
    }
   ],
   "source": [
    "# Email pattern:\n",
    "st = \"Please contact us on abcdefgh@indiatoday.com or write on xyzefg@doit.com.\"\n",
    "p = \"\\w+@\\w+\"\n",
    "re.findall(p,st)"
   ]
  },
  {
   "cell_type": "markdown",
   "metadata": {},
   "source": [
    "    DESC"
   ]
  },
  {
   "cell_type": "markdown",
   "metadata": {},
   "source": [
    "// Below are some sample Regular Expression:\n",
    "\\d :Matches any decimal digit; this is equivalent to the class [0-9].\n",
    "\\D :Matches any non-digit character; this is equivalent to the class [^0-9].\n",
    "\\s :Matches any whitespace character; this is equivalent to the class [ \\t\\n\\r\\f\\v].\n",
    "\\S :Matches any non-whitespace character; this is equivalent to the class [^ \\t\\n\\r\\f\\v].\n",
    "\\w :Matches any alphanumeric character; this is equivalent to the class [a-zA-Z0-9_].\n",
    "\\W :Matches any non-alphanumeric character; this is equivalent to the class [^a-zA-Z0-9_].\n"
   ]
  },
  {
   "cell_type": "code",
   "execution_count": null,
   "metadata": {},
   "outputs": [],
   "source": []
  },
  {
   "cell_type": "code",
   "execution_count": null,
   "metadata": {},
   "outputs": [],
   "source": []
  }
 ],
 "metadata": {
  "kernelspec": {
   "display_name": "Python 3",
   "language": "python",
   "name": "python3"
  },
  "language_info": {
   "codemirror_mode": {
    "name": "ipython",
    "version": 3
   },
   "file_extension": ".py",
   "mimetype": "text/x-python",
   "name": "python",
   "nbconvert_exporter": "python",
   "pygments_lexer": "ipython3",
   "version": "3.7.4"
  }
 },
 "nbformat": 4,
 "nbformat_minor": 2
}
