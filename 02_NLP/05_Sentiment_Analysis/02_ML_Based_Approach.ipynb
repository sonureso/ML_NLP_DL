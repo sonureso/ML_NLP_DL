{
 "cells": [
  {
   "cell_type": "markdown",
   "metadata": {},
   "source": [
    "Feature Extraction:\n",
    "    1. Create Feature vector with all words as 1 and 0. (Good for naive bayes classifier)\n",
    "    2. Term Freq Vector.(Contains freq of words in vocal). (Good for SVM)\n",
    "    3. \n",
    "    "
   ]
  },
  {
   "cell_type": "code",
   "execution_count": 1,
   "metadata": {},
   "outputs": [],
   "source": [
    "import pandas as pd\n",
    "import nltk\n",
    "from nltk import FreqDist\n",
    "from heapq import nlargest"
   ]
  },
  {
   "cell_type": "code",
   "execution_count": 2,
   "metadata": {},
   "outputs": [],
   "source": [
    "from nltk.tokenize import word_tokenize, sent_tokenize\n",
    "from nltk.corpus import stopwords\n",
    "from string import punctuation\n",
    "\n",
    "from sklearn.metrics import accuracy_score, classification_report, confusion_matrix\n",
    "def acc(a,b):\n",
    "    print('Accuracy(test Data): ',accuracy_score(a,b))\n",
    "    print('Confusion Matrix: \\n',pd.DataFrame(confusion_matrix(a,b)))\n",
    "    print('Classification Repost:\\n',classification_report(a,b,digits=3))\n"
   ]
  },
  {
   "cell_type": "code",
   "execution_count": 3,
   "metadata": {},
   "outputs": [],
   "source": [
    "df = pd.read_csv(\"data2.csv\",engine='python')\n",
    "tweets = list(df.tweet)\n",
    "_stopwords = set(stopwords.words('english') + list(punctuation) +\n",
    "                 [\"million\",\"billion\",\"year\",\"millions\",\"billions\",\n",
    "                  \"y/y\",\"'s'\",\"''\",\"�\",'``',1,2,3,4,5,6,7,8,9,0,'a','b','c','d','e','f','ƒ'])"
   ]
  },
  {
   "cell_type": "code",
   "execution_count": 72,
   "metadata": {},
   "outputs": [
    {
     "data": {
      "text/plain": [
       "Index(['id', 'label', 'tweet', 'new_twt'], dtype='object')"
      ]
     },
     "execution_count": 72,
     "metadata": {},
     "output_type": "execute_result"
    }
   ],
   "source": [
    "df.columns"
   ]
  },
  {
   "cell_type": "code",
   "execution_count": 112,
   "metadata": {},
   "outputs": [],
   "source": [
    "from sklearn.model_selection import train_test_split\n",
    "X_train, X_test, y_train, y_test = train_test_split(df[['id','tweet']],df['label'], test_size=0.20, random_state=0)"
   ]
  },
  {
   "cell_type": "code",
   "execution_count": 113,
   "metadata": {},
   "outputs": [],
   "source": [
    "def add_words_col(X_train,col,new_col):\n",
    "    tweets = list(X_train[col])\n",
    "    texts = []\n",
    "    for tweet in tweets:\n",
    "        words = word_tokenize(tweet.lower())\n",
    "        words=[word for word in words if word not in _stopwords]\n",
    "        texts.append(words)\n",
    "    X_train[new_col] = texts"
   ]
  },
  {
   "cell_type": "code",
   "execution_count": null,
   "metadata": {},
   "outputs": [],
   "source": []
  },
  {
   "cell_type": "code",
   "execution_count": 114,
   "metadata": {},
   "outputs": [],
   "source": [
    "add_words_col(X_train,'tweet','new_twt')"
   ]
  },
  {
   "cell_type": "code",
   "execution_count": 116,
   "metadata": {},
   "outputs": [
    {
     "data": {
      "text/plain": [
       "11231"
      ]
     },
     "execution_count": 116,
     "metadata": {},
     "output_type": "execute_result"
    }
   ],
   "source": [
    "len(freq)"
   ]
  },
  {
   "cell_type": "code",
   "execution_count": 117,
   "metadata": {},
   "outputs": [],
   "source": [
    "#Creating Vocab: fro X_train:\n",
    "x = []\n",
    "for text in X_train['new_twt']:\n",
    "    x = x+text\n",
    "freq = FreqDist(x)\n",
    "vocab = nlargest(8000,freq,key=freq.get)"
   ]
  },
  {
   "cell_type": "code",
   "execution_count": 118,
   "metadata": {},
   "outputs": [],
   "source": [
    "def extract_features(tweet):\n",
    "    t_words = set(tweet)\n",
    "    features = {}\n",
    "    for word in vocab:\n",
    "        features[word] = (word in t_words)\n",
    "    return features"
   ]
  },
  {
   "cell_type": "code",
   "execution_count": null,
   "metadata": {},
   "outputs": [],
   "source": []
  },
  {
   "cell_type": "code",
   "execution_count": 119,
   "metadata": {},
   "outputs": [],
   "source": [
    "#Getting training data tuples.\n",
    "train_data = []\n",
    "for row,label in zip(X_train['new_twt'],y_train):\n",
    "    train_data.append((row,label))"
   ]
  },
  {
   "cell_type": "code",
   "execution_count": null,
   "metadata": {},
   "outputs": [],
   "source": []
  },
  {
   "cell_type": "code",
   "execution_count": 120,
   "metadata": {},
   "outputs": [],
   "source": [
    "def getTrainedNaiveBayesClassifier(extract_features,train_data):\n",
    "    train_features = nltk.classify.apply_features(extract_features,train_data)\n",
    "    trainedNBClassifier = nltk.NaiveBayesClassifier.train(train_features)\n",
    "    return trainedNBClassifier"
   ]
  },
  {
   "cell_type": "code",
   "execution_count": 121,
   "metadata": {},
   "outputs": [],
   "source": [
    "trainedNBClassifier = getTrainedNaiveBayesClassifier(extract_features,train_data)"
   ]
  },
  {
   "cell_type": "code",
   "execution_count": 122,
   "metadata": {},
   "outputs": [],
   "source": [
    "def NBSentimentCalculator(tweet):\n",
    "    tweet = tweet.split()\n",
    "    feature = extract_features(tweet)\n",
    "    return trainedNBClassifier.classify(feature)"
   ]
  },
  {
   "cell_type": "code",
   "execution_count": 123,
   "metadata": {},
   "outputs": [],
   "source": [
    "y_pred = []\n",
    "for tweet in X_test['tweet']:\n",
    "    y_pred.append(NBSentimentCalculator(tweet))"
   ]
  },
  {
   "cell_type": "code",
   "execution_count": 124,
   "metadata": {},
   "outputs": [
    {
     "data": {
      "text/plain": [
       "0"
      ]
     },
     "execution_count": 124,
     "metadata": {},
     "output_type": "execute_result"
    }
   ],
   "source": [
    "NBSentimentCalculator('Great movie. I loved it.')"
   ]
  },
  {
   "cell_type": "code",
   "execution_count": 125,
   "metadata": {},
   "outputs": [
    {
     "name": "stdout",
     "output_type": "stream",
     "text": [
      "Accuracy(test Data):  0.8007626310772163\n",
      "Confusion Matrix: \n",
      "      0    1\n",
      "0  560   39\n",
      "1  170  280\n",
      "Classification Repost:\n",
      "               precision    recall  f1-score   support\n",
      "\n",
      "           0      0.767     0.935     0.843       599\n",
      "           1      0.878     0.622     0.728       450\n",
      "\n",
      "    accuracy                          0.801      1049\n",
      "   macro avg      0.822     0.779     0.785      1049\n",
      "weighted avg      0.815     0.801     0.794      1049\n",
      "\n"
     ]
    }
   ],
   "source": [
    "acc(y_test,y_pred)"
   ]
  }
 ],
 "metadata": {
  "kernelspec": {
   "display_name": "Python 3",
   "language": "python",
   "name": "python3"
  },
  "language_info": {
   "codemirror_mode": {
    "name": "ipython",
    "version": 3
   },
   "file_extension": ".py",
   "mimetype": "text/x-python",
   "name": "python",
   "nbconvert_exporter": "python",
   "pygments_lexer": "ipython3",
   "version": "3.7.3"
  }
 },
 "nbformat": 4,
 "nbformat_minor": 2
}
