{
 "cells": [
  {
   "cell_type": "code",
   "execution_count": null,
   "metadata": {},
   "outputs": [],
   "source": [
    "# Updated by Shubham Kumar\n",
    "# This is final Notebook for this Problem.\n",
    "# Using VarianceThresold for feature Selection\n",
    "# Using StratifiedKFold\n",
    "# Using QuadraticDiscriminantAnalysis Model"
   ]
  },
  {
   "cell_type": "code",
   "execution_count": 36,
   "metadata": {},
   "outputs": [],
   "source": [
    "import pandas as pd\n",
    "import numpy as np"
   ]
  },
  {
   "cell_type": "code",
   "execution_count": 42,
   "metadata": {},
   "outputs": [],
   "source": [
    "from tqdm import tqdm_notebook\n",
    "from sklearn.discriminant_analysis import QuadraticDiscriminantAnalysis\n",
    "from sklearn.feature_selection import VarianceThreshold\n",
    "from sklearn.model_selection import StratifiedKFold\n",
    "from sklearn.metrics import roc_auc_score"
   ]
  },
  {
   "cell_type": "code",
   "execution_count": 66,
   "metadata": {},
   "outputs": [],
   "source": [
    "from sklearn.metrics import accuracy_score, classification_report, confusion_matrix\n",
    "def acc(a,b):\n",
    "    print('Accuracy(test Data): ',accuracy_score(a,b))\n",
    "    #print('Accuracy(train Data):',accuracy_score(a,b))\n",
    "    print('Confusion Matrix: \\n',pd.DataFrame(confusion_matrix(a,b)))\n",
    "    print('Classification Repost:\\n',classification_report(a,b))"
   ]
  },
  {
   "cell_type": "code",
   "execution_count": 3,
   "metadata": {},
   "outputs": [],
   "source": [
    "train = pd.read_csv('train.csv')\n",
    "test = pd.read_csv('test.csv')"
   ]
  },
  {
   "cell_type": "code",
   "execution_count": 96,
   "metadata": {},
   "outputs": [
    {
     "data": {
      "text/plain": [
       "255"
      ]
     },
     "execution_count": 96,
     "metadata": {},
     "output_type": "execute_result"
    }
   ],
   "source": [
    "cols = train.columns\n",
    "cols = list(cols)[1:-1]\n",
    "cols.remove('wheezy-copper-turtle-magic')\n",
    "len(cols)"
   ]
  },
  {
   "cell_type": "code",
   "execution_count": 99,
   "metadata": {},
   "outputs": [],
   "source": [
    "tr_target = np.zeros(len(train))\n",
    "preds = np.zeros(len(test))"
   ]
  },
  {
   "cell_type": "code",
   "execution_count": 102,
   "metadata": {},
   "outputs": [
    {
     "data": {
      "application/vnd.jupyter.widget-view+json": {
       "model_id": "74fedd53502e4e5990f6b53a4159eaf5",
       "version_major": 2,
       "version_minor": 0
      },
      "text/plain": [
       "HBox(children=(IntProgress(value=0, max=512), HTML(value='')))"
      ]
     },
     "metadata": {},
     "output_type": "display_data"
    },
    {
     "name": "stdout",
     "output_type": "stream",
     "text": [
      "\n"
     ]
    }
   ],
   "source": [
    "for i in tqdm_notebook(range(512)):\n",
    "\n",
    "    train2 = train[train['wheezy-copper-turtle-magic']==i]\n",
    "    test2 = test[test['wheezy-copper-turtle-magic']==i]\n",
    "    idx1 = train2.index; idx2 = test2.index\n",
    "    train2.reset_index(drop=True,inplace=True)\n",
    "\n",
    "    data = pd.concat([pd.DataFrame(train2[cols]), pd.DataFrame(test2[cols])])\n",
    "    data2 = VarianceThreshold(threshold=2).fit_transform(data[cols])\n",
    "\n",
    "    train3 = data2[:train2.shape[0]]; test3 = data2[train2.shape[0]:]\n",
    "\n",
    "    skf = StratifiedKFold(n_splits=11, random_state=42)\n",
    "    for train_index, test_index in skf.split(train2, train2['target']):\n",
    "\n",
    "        clf = QuadraticDiscriminantAnalysis(0.1)\n",
    "        clf.fit(train3[train_index,:],train2.loc[train_index]['target'])\n",
    "        tr_target[idx1[test_index]] = clf.predict(train3[test_index,:])\n",
    "        preds[idx2] += clf.predict_proba(test3)[:,1] / skf.n_splits"
   ]
  },
  {
   "cell_type": "code",
   "execution_count": null,
   "metadata": {},
   "outputs": [],
   "source": []
  },
  {
   "cell_type": "code",
   "execution_count": 101,
   "metadata": {},
   "outputs": [
    {
     "name": "stdout",
     "output_type": "stream",
     "text": [
      "AUC: 0.9649\n"
     ]
    }
   ],
   "source": [
    "auc = roc_auc_score(train['target'], tr_target)\n",
    "print(f'AUC: {auc:.5}')"
   ]
  },
  {
   "cell_type": "code",
   "execution_count": 103,
   "metadata": {},
   "outputs": [
    {
     "name": "stdout",
     "output_type": "stream",
     "text": [
      "Accuracy(test Data):  0.9262199401855469\n",
      "Confusion Matrix: \n",
      "         0       1\n",
      "0  121302    9711\n",
      "1    9630  121501\n",
      "Classification Repost:\n",
      "               precision    recall  f1-score   support\n",
      "\n",
      "           0       0.93      0.93      0.93    131013\n",
      "           1       0.93      0.93      0.93    131131\n",
      "\n",
      "    accuracy                           0.93    262144\n",
      "   macro avg       0.93      0.93      0.93    262144\n",
      "weighted avg       0.93      0.93      0.93    262144\n",
      "\n"
     ]
    }
   ],
   "source": [
    "acc(train['target'],tr_target)"
   ]
  },
  {
   "cell_type": "code",
   "execution_count": null,
   "metadata": {},
   "outputs": [],
   "source": [
    "sub = pd.read_csv('sample_submission.csv')\n",
    "sub['target'] = preds\n",
    "#sub.to_csv('submission.csv', index=False)"
   ]
  },
  {
   "cell_type": "code",
   "execution_count": null,
   "metadata": {},
   "outputs": [],
   "source": []
  }
 ],
 "metadata": {
  "kernelspec": {
   "display_name": "Python 3",
   "language": "python",
   "name": "python3"
  },
  "language_info": {
   "codemirror_mode": {
    "name": "ipython",
    "version": 3
   },
   "file_extension": ".py",
   "mimetype": "text/x-python",
   "name": "python",
   "nbconvert_exporter": "python",
   "pygments_lexer": "ipython3",
   "version": "3.7.4"
  }
 },
 "nbformat": 4,
 "nbformat_minor": 2
}
