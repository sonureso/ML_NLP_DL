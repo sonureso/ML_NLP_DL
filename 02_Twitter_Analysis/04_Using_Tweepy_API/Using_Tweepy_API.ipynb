{
 "cells": [
  {
   "cell_type": "code",
   "execution_count": 1,
   "metadata": {},
   "outputs": [],
   "source": [
    "import tweepy\n",
    "from textblob import TextBlob\n",
    "import pandas as pd"
   ]
  },
  {
   "cell_type": "code",
   "execution_count": 2,
   "metadata": {},
   "outputs": [],
   "source": [
    "consumer_key = \"cDfYour_Key5tVm\"\n",
    "consumer_secret = \"Your_Key\"\n",
    "access_token =  \"Your_KeycPM4\"\n",
    "access_token_secret = \"Your_KeyrjTjqSn\""
   ]
  },
  {
   "cell_type": "code",
   "execution_count": 3,
   "metadata": {},
   "outputs": [],
   "source": [
    "auth = tweepy.OAuthHandler(consumer_key,consumer_secret)\n",
    "auth.set_access_token(access_token,access_token_secret)\n",
    "api = tweepy.API(auth)"
   ]
  },
  {
   "cell_type": "code",
   "execution_count": 6,
   "metadata": {},
   "outputs": [],
   "source": [
    "#1.  A Tweet list for Search result: \n",
    "tweets = api.search(\"Delhi Election\")\n",
    "\n",
    "#2. Home page Tweets list:\n",
    "tweets = api.home_timeline() \n"
   ]
  },
  {
   "cell_type": "code",
   "execution_count": 38,
   "metadata": {},
   "outputs": [],
   "source": [
    "# It return lots of information for one tweet:\n",
    "#tweets[0]._json\n",
    "#tweets[0]"
   ]
  },
  {
   "cell_type": "code",
   "execution_count": 37,
   "metadata": {},
   "outputs": [],
   "source": [
    "df = pd.DataFrame()\n",
    "tw = []\n",
    "s = []\n",
    "for tweet in tweets:\n",
    "    tw.append(tweet.text)\n",
    "    s.append(TextBlob(tweet.text).sentiment)\n",
    "df[\"tweets\"] = tw\n",
    "df[\"Sentiments\"] = s\n",
    "#df.head(20)"
   ]
  },
  {
   "cell_type": "code",
   "execution_count": 36,
   "metadata": {},
   "outputs": [],
   "source": [
    "#3. Getting User information from username:\n",
    "user = api.get_user('itsBhushanKumar')\n",
    "#user._json"
   ]
  },
  {
   "cell_type": "code",
   "execution_count": 40,
   "metadata": {},
   "outputs": [],
   "source": [
    "# 4. Getting 20 Tweets from a profile.\n",
    "user_tw = api.user_timeline('Norafatehi')\n",
    "#for i in range(0,len(user_tw)):\n",
    " #   print(user_tw[i]._json['text'],\"\\n\")"
   ]
  },
  {
   "cell_type": "code",
   "execution_count": 39,
   "metadata": {},
   "outputs": [],
   "source": [
    "# Getting friends list max 100.:\n",
    "friends = api.friends('Norafatehi',count = 100)\n",
    "#for friend in friends:\n",
    " #   print(friend._json['name'])"
   ]
  },
  {
   "cell_type": "code",
   "execution_count": 38,
   "metadata": {},
   "outputs": [],
   "source": [
    "# getting followers list:\n",
    "# Getting friends list max 100.:\n",
    "followers = api.followers('Norafatehi',count = 100)\n",
    "#for follower in followers:\n",
    " #   print(follower._json['name'])"
   ]
  },
  {
   "cell_type": "code",
   "execution_count": null,
   "metadata": {},
   "outputs": [],
   "source": []
  },
  {
   "cell_type": "code",
   "execution_count": null,
   "metadata": {},
   "outputs": [],
   "source": []
  },
  {
   "cell_type": "code",
   "execution_count": null,
   "metadata": {},
   "outputs": [],
   "source": []
  },
  {
   "cell_type": "code",
   "execution_count": null,
   "metadata": {},
   "outputs": [],
   "source": []
  },
  {
   "cell_type": "code",
   "execution_count": null,
   "metadata": {},
   "outputs": [],
   "source": []
  },
  {
   "cell_type": "code",
   "execution_count": null,
   "metadata": {},
   "outputs": [],
   "source": []
  },
  {
   "cell_type": "code",
   "execution_count": null,
   "metadata": {},
   "outputs": [],
   "source": []
  },
  {
   "cell_type": "code",
   "execution_count": null,
   "metadata": {},
   "outputs": [],
   "source": []
  }
 ],
 "metadata": {
  "kernelspec": {
   "display_name": "Python 3",
   "language": "python",
   "name": "python3"
  },
  "language_info": {
   "codemirror_mode": {
    "name": "ipython",
    "version": 3
   },
   "file_extension": ".py",
   "mimetype": "text/x-python",
   "name": "python",
   "nbconvert_exporter": "python",
   "pygments_lexer": "ipython3",
   "version": "3.7.4"
  }
 },
 "nbformat": 4,
 "nbformat_minor": 2
}
