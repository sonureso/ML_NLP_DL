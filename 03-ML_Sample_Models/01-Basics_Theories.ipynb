{
 "cells": [
  {
   "cell_type": "code",
   "execution_count": null,
   "metadata": {},
   "outputs": [],
   "source": [
    "# This notes is taken from course: Cognitive Classes: Machine Learning with Python"
   ]
  },
  {
   "cell_type": "markdown",
   "metadata": {},
   "source": [
    "Machine Learning:\n",
    "1. Supervised Learning: When there is labelled data. (Has: Classification and Regression)\n",
    "2. Un-supervised Learning:   (has: Clustering.)\n",
    "    Techniques: a) Dimension reduction\n",
    "                b) Density estimation\n",
    "                c) Market Basket Analysis (ex: apriori algo.)\n",
    "                d) Clustering"
   ]
  },
  {
   "cell_type": "markdown",
   "metadata": {},
   "source": [
    "# Regression"
   ]
  },
  {
   "cell_type": "markdown",
   "metadata": {},
   "source": [
    "1. Application of Regression:\n",
    "    Sales Forecasting\n",
    "    Satisfaction Analysis\n",
    "    Price estimation\n",
    "    Employment Income\n",
    "2. Regression Algorithms:\n",
    "    a) Ordinal Regression\n",
    "    b) Poisson Regression\n",
    "    c) Fast Forest quantile regression\n",
    "    d) Linear, Polynomial, Lasso, Stepwise, Ridge Regression\n",
    "    e) Bayesian Linear Regression\n",
    "    f) Neural Network Regression\n",
    "    g) Decision forest Regression\n",
    "    h) Boosted decision tree Regression\n",
    "    i) KNN(K-nearest neighbors)"
   ]
  },
  {
   "cell_type": "markdown",
   "metadata": {},
   "source": [
    "Type-1: Linear Regression:\n",
    "    1. Simple Linear Regression\n",
    "    2. Multiple Linear Regression"
   ]
  },
  {
   "cell_type": "markdown",
   "metadata": {},
   "source": [
    "1. Train test\n",
    "2. Train test Split\n",
    "3. K-fold cross validation"
   ]
  },
  {
   "cell_type": "markdown",
   "metadata": {},
   "source": [
    "#evaluation Matrix:\n",
    "1. MAE: Mean Absolute Error\n",
    "2. MSE: Mean Squared Error                  (for more focus on large errors.)\n",
    "3. RMSE: Root Mean Squared Error\n",
    "4. RAE: Relative Absolute Error\n",
    "5. RSE: Relative Squared Error\n",
    "6. R-Squared = 1 - RSE                      (Represents Accuracy)\n"
   ]
  },
  {
   "cell_type": "code",
   "execution_count": null,
   "metadata": {},
   "outputs": [],
   "source": [
    "Type-2: Non Linear Regression:\n",
    "        1. Polynomial Regression"
   ]
  },
  {
   "cell_type": "markdown",
   "metadata": {},
   "source": [
    "# Classification"
   ]
  },
  {
   "cell_type": "markdown",
   "metadata": {},
   "source": [
    "A) Classification Algorithms in Machine Learning:\n",
    "    1. Decision Tree\n",
    "    2. Naive bayes\n",
    "    3. Linear Discriminant Analysis\n",
    "    4. k-Nearest Neighbors\n",
    "    5. Logistic Regression\n",
    "    6. Neural Networks\n",
    "    7. Support Vector Machine(SVM) - Not good very high number of rows(more than 1000)\n",
    "        a) Image Recognition\n",
    "        b) Text Category Assignment\n",
    "        c) Detecting Spam\n",
    "        d) Sentiment Analysis\n",
    "        e) Outlier Detection\n",
    "    \n",
    "B) Evaluation Metrics in Classfication:\n",
    "    1. Accuracy Score\n",
    "    2. Confusion Matrix\n",
    "    3. Precision, Recall and F1-Score\n",
    "    4. Log-Loss (less is good)"
   ]
  },
  {
   "cell_type": "markdown",
   "metadata": {},
   "source": [
    "# Clustering"
   ]
  },
  {
   "cell_type": "markdown",
   "metadata": {},
   "source": [
    "Clustering:\n",
    "    1. Partition Based Clustering - K-Means, K-Median, Fuzzy c-means  (for large datsets)\n",
    "    2. Hierarchical Clustering - Agglomerative(bottom-up), Divisive  (for small sized datasets)\n",
    "    3. density Based Clustering - DBSCAN (when there is noise in data)"
   ]
  },
  {
   "cell_type": "markdown",
   "metadata": {},
   "source": [
    "K-Means CLustering:\n",
    "\n",
    "    "
   ]
  },
  {
   "cell_type": "markdown",
   "metadata": {},
   "source": [
    "# Recommendation Systems"
   ]
  },
  {
   "cell_type": "markdown",
   "metadata": {},
   "source": [
    "1. Content Based (Similar Items): Based on user preferences.\n",
    "2. Collaborative Filtering (Similarity of users)\n"
   ]
  },
  {
   "cell_type": "code",
   "execution_count": null,
   "metadata": {},
   "outputs": [],
   "source": []
  }
 ],
 "metadata": {
  "kernelspec": {
   "display_name": "Python 3",
   "language": "python",
   "name": "python3"
  },
  "language_info": {
   "codemirror_mode": {
    "name": "ipython",
    "version": 3
   },
   "file_extension": ".py",
   "mimetype": "text/x-python",
   "name": "python",
   "nbconvert_exporter": "python",
   "pygments_lexer": "ipython3",
   "version": "3.7.3"
  }
 },
 "nbformat": 4,
 "nbformat_minor": 2
}
