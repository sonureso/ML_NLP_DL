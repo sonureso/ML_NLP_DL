{
 "cells": [
  {
   "cell_type": "code",
   "execution_count": 1,
   "metadata": {},
   "outputs": [
    {
     "name": "stdout",
     "output_type": "stream",
     "text": [
      "Requirement already satisfied: graphviz in c:\\users\\starkx\\anaconda3\\lib\\site-packages (0.14.1)\n"
     ]
    }
   ],
   "source": [
    "!pip install graphviz"
   ]
  },
  {
   "cell_type": "code",
   "execution_count": 2,
   "metadata": {},
   "outputs": [
    {
     "name": "stdout",
     "output_type": "stream",
     "text": [
      "Requirement already satisfied: hiddenlayer in c:\\users\\starkx\\anaconda3\\lib\\site-packages (0.3)\n"
     ]
    }
   ],
   "source": [
    "!pip install hiddenlayer"
   ]
  },
  {
   "cell_type": "code",
   "execution_count": 24,
   "metadata": {},
   "outputs": [],
   "source": [
    "import torch\n",
    "import hiddenlayer as hl\n",
    "import pandas as pd\n",
    "import numpy as np\n",
    "import seaborn as sns\n",
    "import matplotlib.pyplot as plt\n",
    "import sklearn\n",
    "import datetime"
   ]
  },
  {
   "cell_type": "code",
   "execution_count": 71,
   "metadata": {},
   "outputs": [],
   "source": [
    "data = pd.read_csv('train.csv')"
   ]
  },
  {
   "cell_type": "code",
   "execution_count": 72,
   "metadata": {},
   "outputs": [
    {
     "data": {
      "text/html": [
       "<div>\n",
       "<style scoped>\n",
       "    .dataframe tbody tr th:only-of-type {\n",
       "        vertical-align: middle;\n",
       "    }\n",
       "\n",
       "    .dataframe tbody tr th {\n",
       "        vertical-align: top;\n",
       "    }\n",
       "\n",
       "    .dataframe thead th {\n",
       "        text-align: right;\n",
       "    }\n",
       "</style>\n",
       "<table border=\"1\" class=\"dataframe\">\n",
       "  <thead>\n",
       "    <tr style=\"text-align: right;\">\n",
       "      <th></th>\n",
       "      <th>datetime</th>\n",
       "      <th>season</th>\n",
       "      <th>holiday</th>\n",
       "      <th>workingday</th>\n",
       "      <th>weather</th>\n",
       "      <th>temp</th>\n",
       "      <th>atemp</th>\n",
       "      <th>humidity</th>\n",
       "      <th>windspeed</th>\n",
       "      <th>casual</th>\n",
       "      <th>registered</th>\n",
       "      <th>count</th>\n",
       "    </tr>\n",
       "  </thead>\n",
       "  <tbody>\n",
       "    <tr>\n",
       "      <th>0</th>\n",
       "      <td>2011-01-01 00:00:00</td>\n",
       "      <td>1</td>\n",
       "      <td>0</td>\n",
       "      <td>0</td>\n",
       "      <td>1</td>\n",
       "      <td>9.84</td>\n",
       "      <td>14.395</td>\n",
       "      <td>81</td>\n",
       "      <td>0.0</td>\n",
       "      <td>3</td>\n",
       "      <td>13</td>\n",
       "      <td>16</td>\n",
       "    </tr>\n",
       "    <tr>\n",
       "      <th>1</th>\n",
       "      <td>2011-01-01 01:00:00</td>\n",
       "      <td>1</td>\n",
       "      <td>0</td>\n",
       "      <td>0</td>\n",
       "      <td>1</td>\n",
       "      <td>9.02</td>\n",
       "      <td>13.635</td>\n",
       "      <td>80</td>\n",
       "      <td>0.0</td>\n",
       "      <td>8</td>\n",
       "      <td>32</td>\n",
       "      <td>40</td>\n",
       "    </tr>\n",
       "    <tr>\n",
       "      <th>2</th>\n",
       "      <td>2011-01-01 02:00:00</td>\n",
       "      <td>1</td>\n",
       "      <td>0</td>\n",
       "      <td>0</td>\n",
       "      <td>1</td>\n",
       "      <td>9.02</td>\n",
       "      <td>13.635</td>\n",
       "      <td>80</td>\n",
       "      <td>0.0</td>\n",
       "      <td>5</td>\n",
       "      <td>27</td>\n",
       "      <td>32</td>\n",
       "    </tr>\n",
       "    <tr>\n",
       "      <th>3</th>\n",
       "      <td>2011-01-01 03:00:00</td>\n",
       "      <td>1</td>\n",
       "      <td>0</td>\n",
       "      <td>0</td>\n",
       "      <td>1</td>\n",
       "      <td>9.84</td>\n",
       "      <td>14.395</td>\n",
       "      <td>75</td>\n",
       "      <td>0.0</td>\n",
       "      <td>3</td>\n",
       "      <td>10</td>\n",
       "      <td>13</td>\n",
       "    </tr>\n",
       "    <tr>\n",
       "      <th>4</th>\n",
       "      <td>2011-01-01 04:00:00</td>\n",
       "      <td>1</td>\n",
       "      <td>0</td>\n",
       "      <td>0</td>\n",
       "      <td>1</td>\n",
       "      <td>9.84</td>\n",
       "      <td>14.395</td>\n",
       "      <td>75</td>\n",
       "      <td>0.0</td>\n",
       "      <td>0</td>\n",
       "      <td>1</td>\n",
       "      <td>1</td>\n",
       "    </tr>\n",
       "  </tbody>\n",
       "</table>\n",
       "</div>"
      ],
      "text/plain": [
       "              datetime  season  holiday  workingday  weather  temp   atemp  \\\n",
       "0  2011-01-01 00:00:00       1        0           0        1  9.84  14.395   \n",
       "1  2011-01-01 01:00:00       1        0           0        1  9.02  13.635   \n",
       "2  2011-01-01 02:00:00       1        0           0        1  9.02  13.635   \n",
       "3  2011-01-01 03:00:00       1        0           0        1  9.84  14.395   \n",
       "4  2011-01-01 04:00:00       1        0           0        1  9.84  14.395   \n",
       "\n",
       "   humidity  windspeed  casual  registered  count  \n",
       "0        81        0.0       3          13     16  \n",
       "1        80        0.0       8          32     40  \n",
       "2        80        0.0       5          27     32  \n",
       "3        75        0.0       3          10     13  \n",
       "4        75        0.0       0           1      1  "
      ]
     },
     "execution_count": 72,
     "metadata": {},
     "output_type": "execute_result"
    }
   ],
   "source": [
    "data.head()\n",
    "#data.columns\n"
   ]
  },
  {
   "cell_type": "code",
   "execution_count": 73,
   "metadata": {},
   "outputs": [],
   "source": [
    "data['yr'] = data['datetime'].map(lambda x:datetime.datetime.strptime(x[0:10] ,'%Y-%m-%d').year - 2010)\n",
    "data['mnth'] = data['datetime'].map(lambda x:datetime.datetime.strptime(x[0:10] ,'%Y-%m-%d').month)\n",
    "data['weekday'] = data['datetime'].map(lambda x:datetime.datetime.strptime(x[0:10] ,'%Y-%m-%d').weekday())\n",
    "data['season_nm'] = data['season'].map(lambda x:'Spring' if (x==1) else 'Summer' if (x==2) else 'fall' if (x==3) else 'Winter')"
   ]
  },
  {
   "cell_type": "markdown",
   "metadata": {},
   "source": [
    "# 01_Exploring_Visualizations"
   ]
  },
  {
   "cell_type": "code",
   "execution_count": 44,
   "metadata": {},
   "outputs": [
    {
     "data": {
      "text/plain": [
       "Text(0.5, 1.0, 'Number of bikes rented per season')"
      ]
     },
     "execution_count": 44,
     "metadata": {},
     "output_type": "execute_result"
    },
    {
     "data": {
      "image/png": "[encoded data removed]",
      "text/plain": [
       "<Figure size 576x432 with 1 Axes>"
      ]
     },
     "metadata": {
      "needs_background": "light"
     },
     "output_type": "display_data"
    }
   ],
   "source": [
    "plt.figure(figsize=(8,6))\n",
    "sns.barplot('yr','count',hue='season_nm',data=data,ci=None)\n",
    "plt.legend(loc='upper right', bbox_to_anchor=(1.2,0.5))\n",
    "plt.xlabel('Year')\n",
    "plt.ylabel('Total Number of bikes rented')\n",
    "plt.title('Number of bikes rented per season')"
   ]
  },
  {
   "cell_type": "code",
   "execution_count": 46,
   "metadata": {},
   "outputs": [
    {
     "data": {
      "image/png": "[encoded data removed]",
      "text/plain": [
       "<Figure size 576x432 with 1 Axes>"
      ]
     },
     "metadata": {
      "needs_background": "light"
     },
     "output_type": "display_data"
    }
   ],
   "source": [
    "plt.figure(figsize=(8,6))\n",
    "sns.barplot('mnth','count',hue='workingday',data=data)\n",
    "plt.title('Number of bikes rented per month')\n",
    "plt.show()"
   ]
  },
  {
   "cell_type": "code",
   "execution_count": 49,
   "metadata": {},
   "outputs": [
    {
     "data": {
      "image/png": "[encoded data removed]",
      "text/plain": [
       "<Figure size 576x576 with 1 Axes>"
      ]
     },
     "metadata": {
      "needs_background": "light"
     },
     "output_type": "display_data"
    }
   ],
   "source": [
    "plt.figure(figsize=(8,8))\n",
    "sns.scatterplot('temp','count',data=data)\n",
    "plt.xlabel('Temperature')\n",
    "plt.ylabel('Total Number of bikes rented')\n",
    "plt.show()"
   ]
  },
  {
   "cell_type": "markdown",
   "metadata": {},
   "source": [
    "# 02_data_preparation"
   ]
  },
  {
   "cell_type": "code",
   "execution_count": 80,
   "metadata": {},
   "outputs": [],
   "source": [
    "cols = [ 'registered','holiday','weekday','weather','temp','atemp','season_nm']\n",
    "features = pd.get_dummies(data[cols],columns=['season_nm'])\n",
    "target = data[['count']]"
   ]
  },
  {
   "cell_type": "code",
   "execution_count": 83,
   "metadata": {},
   "outputs": [],
   "source": [
    "from sklearn.model_selection import train_test_split\n",
    "X_train,x_test, Y_train, y_test = train_test_split(features,target,test_size=0.2)"
   ]
  },
  {
   "cell_type": "code",
   "execution_count": 84,
   "metadata": {},
   "outputs": [],
   "source": [
    "X_train_tensor = torch.tensor(X_train.values,dtype=torch.float)\n",
    "x_test_tensor = torch.tensor(x_test.values,dtype=torch.float)\n",
    "\n",
    "Y_train_tensor = torch.tensor(Y_train.values,dtype=torch.float)\n",
    "y_test_tensor = torch.tensor(y_test.values,dtype=torch.float)"
   ]
  },
  {
   "cell_type": "code",
   "execution_count": 92,
   "metadata": {},
   "outputs": [
    {
     "data": {
      "text/plain": [
       "torch.Size([8708, 10])"
      ]
     },
     "execution_count": 92,
     "metadata": {},
     "output_type": "execute_result"
    }
   ],
   "source": [
    "X_train_tensor.shape"
   ]
  },
  {
   "cell_type": "code",
   "execution_count": 87,
   "metadata": {},
   "outputs": [],
   "source": [
    "# to pass data in batches:\n",
    "import torch.utils.data as data_utils"
   ]
  },
  {
   "cell_type": "code",
   "execution_count": 109,
   "metadata": {},
   "outputs": [],
   "source": [
    "train_data = data_utils.TensorDataset(X_train_tensor, Y_train_tensor)\n",
    "train_loader = data_utils.DataLoader(train_data, batch_size=1000,shuffle=True)"
   ]
  },
  {
   "cell_type": "code",
   "execution_count": 110,
   "metadata": {},
   "outputs": [
    {
     "name": "stdout",
     "output_type": "stream",
     "text": [
      "9\n"
     ]
    }
   ],
   "source": [
    "# it means a batch of 88 will make an epoch.\n",
    "print(len(train_loader))\n",
    "feature_batch, target_batch = iter(train_loader).next()"
   ]
  },
  {
   "cell_type": "markdown",
   "metadata": {},
   "source": [
    "# 03-Trying_Diff_model"
   ]
  },
  {
   "cell_type": "code",
   "execution_count": 111,
   "metadata": {},
   "outputs": [],
   "source": [
    "# now we are ready to go ahead:\n",
    "inp = X_train_tensor.shape[1]\n",
    "out = 1\n",
    "hid = 10\n",
    "loss_fn = torch.nn.MSELoss()"
   ]
  },
  {
   "cell_type": "code",
   "execution_count": 112,
   "metadata": {},
   "outputs": [],
   "source": [
    "model = torch.nn.Sequential(torch.nn.Linear(inp,hid),\n",
    "                           torch.nn.Linear(hid,out))"
   ]
  },
  {
   "cell_type": "code",
   "execution_count": 113,
   "metadata": {},
   "outputs": [
    {
     "name": "stderr",
     "output_type": "stream",
     "text": [
      "\r\n",
      "(dot.exe:5456): Pango-WARNING **: couldn't load font \"Times Not-Rotated 10\", falling back to \"Sans Not-Rotated 10\", expect ugly output.\r\n"
     ]
    },
    {
     "data": {
      "image/svg+xml": [
       "<?xml version=\"1.0\" encoding=\"UTF-8\" standalone=\"no\"?>\r\n",
       "<!DOCTYPE svg PUBLIC \"-//W3C//DTD SVG 1.1//EN\"\r\n",
       " \"http://www.w3.org/Graphics/SVG/1.1/DTD/svg11.dtd\">\r\n",
       "<!-- Generated by graphviz version 2.44.2~dev.20200815.1738 (20200815.1738)\r\n",
       " -->\r\n",
       "<!-- Pages: 1 -->\r\n",
       "<svg width=\"198pt\" height=\"116pt\"\r\n",
       " viewBox=\"0.00 0.00 198.00 116.00\" xmlns=\"http://www.w3.org/2000/svg\" xmlns:xlink=\"http://www.w3.org/1999/xlink\">\r\n",
       "<g id=\"graph0\" class=\"graph\" transform=\"scale(1 1) rotate(0) translate(72 80)\">\r\n",
       "<polygon fill=\"#ffffff\" stroke=\"transparent\" points=\"-72,36 -72,-80 126,-80 126,36 -72,36\"/>\r\n",
       "<!-- 15432726257125006828 -->\r\n",
       "<g id=\"node1\" class=\"node\">\r\n",
       "<title>15432726257125006828</title>\r\n",
       "<polygon fill=\"#e8e8e8\" stroke=\"#000000\" points=\"54,-44 0,-44 0,0 54,0 54,-44\"/>\r\n",
       "<text text-anchor=\"start\" x=\"14\" y=\"-28\" font-family=\"Times\" font-size=\"10.00\" fill=\"#000000\">Linear</text>\r\n",
       "<text text-anchor=\"start\" x=\"35\" y=\"-7\" font-family=\"Times\" font-size=\"10.00\" fill=\"#000000\">x2</text>\r\n",
       "</g>\r\n",
       "</g>\r\n",
       "</svg>\r\n"
      ],
      "text/plain": [
       "<hiddenlayer.graph.Graph at 0x1d397710>"
      ]
     },
     "execution_count": 113,
     "metadata": {},
     "output_type": "execute_result"
    }
   ],
   "source": [
    "# We have two linear layers so we have:\n",
    "# linear multiplied by 2.\n",
    "hl.build_graph(model,torch.zeros([10,inp]))"
   ]
  },
  {
   "cell_type": "code",
   "execution_count": 114,
   "metadata": {},
   "outputs": [],
   "source": [
    "optimizer = torch.optim.Adam(model.parameters(),lr=0.001)"
   ]
  },
  {
   "cell_type": "code",
   "execution_count": 117,
   "metadata": {},
   "outputs": [
    {
     "name": "stdout",
     "output_type": "stream",
     "text": [
      "Epoch [1/1000], Step [1/9], Loss: 1362.6088\n",
      "Epoch [1/1000], Step [2/9], Loss: 1501.6002\n",
      "Epoch [1/1000], Step [3/9], Loss: 1378.5802\n",
      "Epoch [1/1000], Step [4/9], Loss: 1441.7516\n",
      "Epoch [1/1000], Step [5/9], Loss: 1548.5133\n",
      "Epoch [1/1000], Step [6/9], Loss: 1616.5538\n",
      "Epoch [1/1000], Step [7/9], Loss: 1457.8820\n",
      "Epoch [1/1000], Step [8/9], Loss: 1393.1676\n",
      "Epoch [1/1000], Step [9/9], Loss: 1584.2922\n",
      "Epoch [201/1000], Step [1/9], Loss: 1472.7423\n",
      "Epoch [201/1000], Step [2/9], Loss: 1334.6799\n",
      "Epoch [201/1000], Step [3/9], Loss: 1394.1742\n",
      "Epoch [201/1000], Step [4/9], Loss: 1466.2969\n",
      "Epoch [201/1000], Step [5/9], Loss: 1311.3666\n",
      "Epoch [201/1000], Step [6/9], Loss: 1522.1609\n",
      "Epoch [201/1000], Step [7/9], Loss: 1405.0190\n",
      "Epoch [201/1000], Step [8/9], Loss: 1416.4741\n",
      "Epoch [201/1000], Step [9/9], Loss: 1299.8120\n",
      "Epoch [401/1000], Step [1/9], Loss: 1348.3748\n",
      "Epoch [401/1000], Step [2/9], Loss: 1343.1140\n",
      "Epoch [401/1000], Step [3/9], Loss: 1450.5686\n",
      "Epoch [401/1000], Step [4/9], Loss: 1572.8798\n",
      "Epoch [401/1000], Step [5/9], Loss: 1299.5355\n",
      "Epoch [401/1000], Step [6/9], Loss: 1368.9083\n",
      "Epoch [401/1000], Step [7/9], Loss: 1302.0051\n",
      "Epoch [401/1000], Step [8/9], Loss: 1263.8354\n",
      "Epoch [401/1000], Step [9/9], Loss: 1395.4840\n",
      "Epoch [601/1000], Step [1/9], Loss: 1335.7574\n",
      "Epoch [601/1000], Step [2/9], Loss: 1160.0518\n",
      "Epoch [601/1000], Step [3/9], Loss: 1329.7471\n",
      "Epoch [601/1000], Step [4/9], Loss: 1166.1106\n",
      "Epoch [601/1000], Step [5/9], Loss: 1378.6527\n",
      "Epoch [601/1000], Step [6/9], Loss: 1634.0009\n",
      "Epoch [601/1000], Step [7/9], Loss: 1388.7345\n",
      "Epoch [601/1000], Step [8/9], Loss: 1451.6934\n",
      "Epoch [601/1000], Step [9/9], Loss: 1233.9431\n",
      "Epoch [801/1000], Step [1/9], Loss: 1342.5237\n",
      "Epoch [801/1000], Step [2/9], Loss: 1187.6533\n",
      "Epoch [801/1000], Step [3/9], Loss: 1327.0725\n",
      "Epoch [801/1000], Step [4/9], Loss: 1319.1135\n",
      "Epoch [801/1000], Step [5/9], Loss: 1585.9976\n",
      "Epoch [801/1000], Step [6/9], Loss: 1268.4911\n",
      "Epoch [801/1000], Step [7/9], Loss: 1343.5470\n",
      "Epoch [801/1000], Step [8/9], Loss: 1227.7618\n",
      "Epoch [801/1000], Step [9/9], Loss: 1437.7101\n",
      "Epoch [1001/1000], Step [1/9], Loss: 1500.5243\n",
      "Epoch [1001/1000], Step [2/9], Loss: 1357.8527\n",
      "Epoch [1001/1000], Step [3/9], Loss: 1385.3289\n",
      "Epoch [1001/1000], Step [4/9], Loss: 1319.2277\n",
      "Epoch [1001/1000], Step [5/9], Loss: 1155.7086\n",
      "Epoch [1001/1000], Step [6/9], Loss: 1392.6392\n",
      "Epoch [1001/1000], Step [7/9], Loss: 1198.7247\n",
      "Epoch [1001/1000], Step [8/9], Loss: 1274.7251\n",
      "Epoch [1001/1000], Step [9/9], Loss: 1400.6791\n"
     ]
    }
   ],
   "source": [
    "total_step = len(train_loader)\n",
    "num_epochs = 1000\n",
    "\n",
    "for epoch in range(num_epochs+1):\n",
    "    for i, (features,target) in enumerate(train_loader):\n",
    "        output = model(features)\n",
    "        loss = loss_fn(output, target)\n",
    "        optimizer.zero_grad()\n",
    "        loss.backward()\n",
    "        optimizer.step()\n",
    "        \n",
    "        if(epoch % 200 ==0):\n",
    "            print('Epoch [{}/{}], Step [{}/{}], Loss: {:.4f}'.format(epoch+1,num_epochs, i+1, total_step,loss.item()))"
   ]
  },
  {
   "cell_type": "markdown",
   "metadata": {},
   "source": [
    "# 04-Model_Evaluation"
   ]
  },
  {
   "cell_type": "code",
   "execution_count": 123,
   "metadata": {},
   "outputs": [],
   "source": [
    "model.eval()\n",
    "with torch.no_grad():\n",
    "    y_pred_tensor = model(x_test_tensor)"
   ]
  },
  {
   "cell_type": "code",
   "execution_count": 124,
   "metadata": {},
   "outputs": [
    {
     "data": {
      "text/plain": [
       "(2178, 1)"
      ]
     },
     "execution_count": 124,
     "metadata": {},
     "output_type": "execute_result"
    }
   ],
   "source": [
    "y_pred = y_pred_tensor.detach().numpy()\n",
    "print(y_pred.shape)\n",
    "print(y_test.values.shape)"
   ]
  },
  {
   "cell_type": "code",
   "execution_count": 127,
   "metadata": {},
   "outputs": [
    {
     "data": {
      "text/plain": [
       "0.9590924627874668"
      ]
     },
     "execution_count": 127,
     "metadata": {},
     "output_type": "execute_result"
    }
   ],
   "source": [
    "# Great R2-Score here:\n",
    "sklearn.metrics.r2_score(y_test,y_pred)"
   ]
  },
  {
   "cell_type": "code",
   "execution_count": 128,
   "metadata": {},
   "outputs": [
    {
     "data": {
      "image/png": "[encoded data removed]",
      "text/plain": [
       "<Figure size 576x576 with 1 Axes>"
      ]
     },
     "metadata": {
      "needs_background": "light"
     },
     "output_type": "display_data"
    }
   ],
   "source": [
    "plt.figure(figsize=(8,8))\n",
    "plt.scatter(y_pred,y_test.values,s=250)\n",
    "plt.xlabel(\"Actual Count\")\n",
    "plt.ylabel(\"Predicted Count\")\n",
    "plt.show()"
   ]
  },
  {
   "cell_type": "markdown",
   "metadata": {},
   "source": [
    "# 05-Effects of some changes: (ReLU)"
   ]
  },
  {
   "cell_type": "code",
   "execution_count": 130,
   "metadata": {},
   "outputs": [
    {
     "name": "stderr",
     "output_type": "stream",
     "text": [
      "\r\n",
      "(dot.exe:1984): Pango-WARNING **: couldn't load font \"Times Not-Rotated 10\", falling back to \"Sans Not-Rotated 10\", expect ugly output.\r\n"
     ]
    },
    {
     "data": {
      "image/svg+xml": [
       "<?xml version=\"1.0\" encoding=\"UTF-8\" standalone=\"no\"?>\r\n",
       "<!DOCTYPE svg PUBLIC \"-//W3C//DTD SVG 1.1//EN\"\r\n",
       " \"http://www.w3.org/Graphics/SVG/1.1/DTD/svg11.dtd\">\r\n",
       "<!-- Generated by graphviz version 2.44.2~dev.20200815.1738 (20200815.1738)\r\n",
       " -->\r\n",
       "<!-- Pages: 1 -->\r\n",
       "<svg width=\"308pt\" height=\"108pt\"\r\n",
       " viewBox=\"0.00 0.00 308.00 108.00\" xmlns=\"http://www.w3.org/2000/svg\" xmlns:xlink=\"http://www.w3.org/1999/xlink\">\r\n",
       "<g id=\"graph0\" class=\"graph\" transform=\"scale(1 1) rotate(0) translate(72 72)\">\r\n",
       "<polygon fill=\"#ffffff\" stroke=\"transparent\" points=\"-72,36 -72,-72 236,-72 236,36 -72,36\"/>\r\n",
       "<!-- /outputs/7 -->\r\n",
       "<g id=\"node1\" class=\"node\">\r\n",
       "<title>/outputs/7</title>\r\n",
       "<polygon fill=\"#e8e8e8\" stroke=\"#000000\" points=\"164,-36 110,-36 110,0 164,0 164,-36\"/>\r\n",
       "<text text-anchor=\"start\" x=\"124\" y=\"-15\" font-family=\"Times\" font-size=\"10.00\" fill=\"#000000\">Linear</text>\r\n",
       "</g>\r\n",
       "<!-- 14777498640161829566 -->\r\n",
       "<g id=\"node2\" class=\"node\">\r\n",
       "<title>14777498640161829566</title>\r\n",
       "<polygon fill=\"#e8e8e8\" stroke=\"#000000\" points=\"74,-36 0,-36 0,0 74,0 74,-36\"/>\r\n",
       "<text text-anchor=\"start\" x=\"8\" y=\"-15\" font-family=\"Times\" font-size=\"10.00\" fill=\"#000000\">Linear &gt; Relu</text>\r\n",
       "</g>\r\n",
       "<!-- 14777498640161829566&#45;&gt;/outputs/7 -->\r\n",
       "<g id=\"edge1\" class=\"edge\">\r\n",
       "<title>14777498640161829566&#45;&gt;/outputs/7</title>\r\n",
       "<path fill=\"none\" stroke=\"#000000\" d=\"M74.21,-18C82.49,-18 91.3,-18 99.59,-18\"/>\r\n",
       "<polygon fill=\"#000000\" stroke=\"#000000\" points=\"99.73,-21.5 109.73,-18 99.73,-14.5 99.73,-21.5\"/>\r\n",
       "</g>\r\n",
       "</g>\r\n",
       "</svg>\r\n"
      ],
      "text/plain": [
       "<hiddenlayer.graph.Graph at 0x1e37cb00>"
      ]
     },
     "execution_count": 130,
     "metadata": {},
     "output_type": "execute_result"
    }
   ],
   "source": [
    "model = torch.nn.Sequential(torch.nn.Linear(inp,hid),\n",
    "                            torch.nn.ReLU(),\n",
    "                           torch.nn.Linear(hid,out))\n",
    "\n",
    "hl.build_graph(model,torch.zeros([10,inp]))"
   ]
  },
  {
   "cell_type": "code",
   "execution_count": 131,
   "metadata": {},
   "outputs": [],
   "source": [
    "optimizer = torch.optim.Adam(model.parameters(),lr=0.001)"
   ]
  },
  {
   "cell_type": "code",
   "execution_count": 132,
   "metadata": {},
   "outputs": [
    {
     "name": "stdout",
     "output_type": "stream",
     "text": [
      "Epoch [1/1000], Step [1/9], Loss: 68512.0781\n",
      "Epoch [1/1000], Step [2/9], Loss: 69226.7188\n",
      "Epoch [1/1000], Step [3/9], Loss: 71103.4297\n",
      "Epoch [1/1000], Step [4/9], Loss: 67434.5547\n",
      "Epoch [1/1000], Step [5/9], Loss: 64581.9375\n",
      "Epoch [1/1000], Step [6/9], Loss: 60567.3438\n",
      "Epoch [1/1000], Step [7/9], Loss: 74138.1953\n",
      "Epoch [1/1000], Step [8/9], Loss: 65466.8477\n",
      "Epoch [1/1000], Step [9/9], Loss: 70771.5156\n",
      "Epoch [201/1000], Step [1/9], Loss: 1385.3253\n",
      "Epoch [201/1000], Step [2/9], Loss: 1399.1898\n",
      "Epoch [201/1000], Step [3/9], Loss: 1460.9807\n",
      "Epoch [201/1000], Step [4/9], Loss: 1391.2539\n",
      "Epoch [201/1000], Step [5/9], Loss: 1125.4501\n",
      "Epoch [201/1000], Step [6/9], Loss: 1455.7612\n",
      "Epoch [201/1000], Step [7/9], Loss: 1631.0336\n",
      "Epoch [201/1000], Step [8/9], Loss: 1290.9351\n",
      "Epoch [201/1000], Step [9/9], Loss: 1234.9421\n",
      "Epoch [401/1000], Step [1/9], Loss: 1062.9969\n",
      "Epoch [401/1000], Step [2/9], Loss: 1200.1840\n",
      "Epoch [401/1000], Step [3/9], Loss: 1333.6493\n",
      "Epoch [401/1000], Step [4/9], Loss: 1483.2509\n",
      "Epoch [401/1000], Step [5/9], Loss: 1337.6987\n",
      "Epoch [401/1000], Step [6/9], Loss: 1076.6777\n",
      "Epoch [401/1000], Step [7/9], Loss: 1345.4496\n",
      "Epoch [401/1000], Step [8/9], Loss: 1020.7458\n",
      "Epoch [401/1000], Step [9/9], Loss: 1184.5730\n",
      "Epoch [601/1000], Step [1/9], Loss: 1187.4799\n",
      "Epoch [601/1000], Step [2/9], Loss: 1254.8199\n",
      "Epoch [601/1000], Step [3/9], Loss: 1277.3254\n",
      "Epoch [601/1000], Step [4/9], Loss: 968.7303\n",
      "Epoch [601/1000], Step [5/9], Loss: 1045.1978\n",
      "Epoch [601/1000], Step [6/9], Loss: 1091.7764\n",
      "Epoch [601/1000], Step [7/9], Loss: 1167.9053\n",
      "Epoch [601/1000], Step [8/9], Loss: 1220.7986\n",
      "Epoch [601/1000], Step [9/9], Loss: 1228.2534\n",
      "Epoch [801/1000], Step [1/9], Loss: 1201.4706\n",
      "Epoch [801/1000], Step [2/9], Loss: 1087.2860\n",
      "Epoch [801/1000], Step [3/9], Loss: 1030.0399\n",
      "Epoch [801/1000], Step [4/9], Loss: 1161.6616\n",
      "Epoch [801/1000], Step [5/9], Loss: 1048.9569\n",
      "Epoch [801/1000], Step [6/9], Loss: 1091.1936\n",
      "Epoch [801/1000], Step [7/9], Loss: 1189.5201\n",
      "Epoch [801/1000], Step [8/9], Loss: 994.7197\n",
      "Epoch [801/1000], Step [9/9], Loss: 1186.5479\n",
      "Epoch [1001/1000], Step [1/9], Loss: 1076.6515\n",
      "Epoch [1001/1000], Step [2/9], Loss: 1057.0571\n",
      "Epoch [1001/1000], Step [3/9], Loss: 897.7552\n",
      "Epoch [1001/1000], Step [4/9], Loss: 1092.3214\n",
      "Epoch [1001/1000], Step [5/9], Loss: 1028.1697\n",
      "Epoch [1001/1000], Step [6/9], Loss: 924.5103\n",
      "Epoch [1001/1000], Step [7/9], Loss: 968.3619\n",
      "Epoch [1001/1000], Step [8/9], Loss: 1102.4288\n",
      "Epoch [1001/1000], Step [9/9], Loss: 1165.9803\n"
     ]
    }
   ],
   "source": [
    "total_step = len(train_loader)\n",
    "num_epochs = 1000\n",
    "\n",
    "for epoch in range(num_epochs+1):\n",
    "    for i, (features,target) in enumerate(train_loader):\n",
    "        output = model(features)\n",
    "        loss = loss_fn(output, target)\n",
    "        optimizer.zero_grad()\n",
    "        loss.backward()\n",
    "        optimizer.step()\n",
    "        \n",
    "        if(epoch % 200 ==0):\n",
    "            print('Epoch [{}/{}], Step [{}/{}], Loss: {:.4f}'.format(epoch+1,num_epochs, i+1, total_step,loss.item()))"
   ]
  },
  {
   "cell_type": "code",
   "execution_count": 134,
   "metadata": {},
   "outputs": [
    {
     "name": "stdout",
     "output_type": "stream",
     "text": [
      "(2178, 1)\n",
      "(2178, 1)\n"
     ]
    }
   ],
   "source": [
    "# Evaluating\n",
    "model.eval()\n",
    "with torch.no_grad():\n",
    "    y_pred_tensor = model(x_test_tensor)\n",
    "    \n",
    "y_pred = y_pred_tensor.detach().numpy()\n",
    "print(y_pred.shape)\n",
    "print(y_test.values.shape)"
   ]
  },
  {
   "cell_type": "code",
   "execution_count": 135,
   "metadata": {},
   "outputs": [
    {
     "name": "stdout",
     "output_type": "stream",
     "text": [
      "R2-Score:  0.9679218094202253\n"
     ]
    },
    {
     "data": {
      "image/png": "[encoded data removed]",
      "text/plain": [
       "<Figure size 576x576 with 1 Axes>"
      ]
     },
     "metadata": {
      "needs_background": "light"
     },
     "output_type": "display_data"
    }
   ],
   "source": [
    "# R2-Score is almost same:\n",
    "print(\"R2-Score: \",sklearn.metrics.r2_score(y_test,y_pred))\n",
    "plt.figure(figsize=(8,8))\n",
    "plt.scatter(y_pred,y_test.values,s=250)\n",
    "plt.xlabel(\"Actual Count\")\n",
    "plt.ylabel(\"Predicted Count\")\n",
    "plt.show()"
   ]
  },
  {
   "cell_type": "markdown",
   "metadata": {},
   "source": [
    "# 06-Effect_of_Dropout"
   ]
  },
  {
   "cell_type": "code",
   "execution_count": 143,
   "metadata": {},
   "outputs": [
    {
     "name": "stderr",
     "output_type": "stream",
     "text": [
      "\r\n",
      "(dot.exe:6648): Pango-WARNING **: couldn't load font \"Times Not-Rotated 10\", falling back to \"Sans Not-Rotated 10\", expect ugly output.\r\n"
     ]
    },
    {
     "data": {
      "image/svg+xml": [
       "<?xml version=\"1.0\" encoding=\"UTF-8\" standalone=\"no\"?>\r\n",
       "<!DOCTYPE svg PUBLIC \"-//W3C//DTD SVG 1.1//EN\"\r\n",
       " \"http://www.w3.org/Graphics/SVG/1.1/DTD/svg11.dtd\">\r\n",
       "<!-- Generated by graphviz version 2.44.2~dev.20200815.1738 (20200815.1738)\r\n",
       " -->\r\n",
       "<!-- Pages: 1 -->\r\n",
       "<svg width=\"308pt\" height=\"108pt\"\r\n",
       " viewBox=\"0.00 0.00 308.00 108.00\" xmlns=\"http://www.w3.org/2000/svg\" xmlns:xlink=\"http://www.w3.org/1999/xlink\">\r\n",
       "<g id=\"graph0\" class=\"graph\" transform=\"scale(1 1) rotate(0) translate(72 72)\">\r\n",
       "<polygon fill=\"#ffffff\" stroke=\"transparent\" points=\"-72,36 -72,-72 236,-72 236,36 -72,36\"/>\r\n",
       "<!-- /outputs/7 -->\r\n",
       "<g id=\"node1\" class=\"node\">\r\n",
       "<title>/outputs/7</title>\r\n",
       "<polygon fill=\"#e8e8e8\" stroke=\"#000000\" points=\"164,-36 110,-36 110,0 164,0 164,-36\"/>\r\n",
       "<text text-anchor=\"start\" x=\"124\" y=\"-15\" font-family=\"Times\" font-size=\"10.00\" fill=\"#000000\">Linear</text>\r\n",
       "</g>\r\n",
       "<!-- 6976030178955513043 -->\r\n",
       "<g id=\"node2\" class=\"node\">\r\n",
       "<title>6976030178955513043</title>\r\n",
       "<polygon fill=\"#e8e8e8\" stroke=\"#000000\" points=\"74,-36 0,-36 0,0 74,0 74,-36\"/>\r\n",
       "<text text-anchor=\"start\" x=\"8\" y=\"-15\" font-family=\"Times\" font-size=\"10.00\" fill=\"#000000\">Linear &gt; Relu</text>\r\n",
       "</g>\r\n",
       "<!-- 6976030178955513043&#45;&gt;/outputs/7 -->\r\n",
       "<g id=\"edge1\" class=\"edge\">\r\n",
       "<title>6976030178955513043&#45;&gt;/outputs/7</title>\r\n",
       "<path fill=\"none\" stroke=\"#000000\" d=\"M74.21,-18C82.49,-18 91.3,-18 99.59,-18\"/>\r\n",
       "<polygon fill=\"#000000\" stroke=\"#000000\" points=\"99.73,-21.5 109.73,-18 99.73,-14.5 99.73,-21.5\"/>\r\n",
       "</g>\r\n",
       "</g>\r\n",
       "</svg>\r\n"
      ],
      "text/plain": [
       "<hiddenlayer.graph.Graph at 0x1d26e0f0>"
      ]
     },
     "execution_count": 143,
     "metadata": {},
     "output_type": "execute_result"
    }
   ],
   "source": [
    "model = torch.nn.Sequential(torch.nn.Linear(inp,hid),\n",
    "                            torch.nn.ReLU(),\n",
    "                            torch.nn.Dropout(p=0.2),\n",
    "                           torch.nn.Linear(hid,out))\n",
    "\n",
    "hl.build_graph(model,torch.zeros([10,inp]))"
   ]
  },
  {
   "cell_type": "code",
   "execution_count": 137,
   "metadata": {},
   "outputs": [
    {
     "name": "stdout",
     "output_type": "stream",
     "text": [
      "Epoch [1/1000], Step [1/9], Loss: 65365.8555\n",
      "Epoch [1/1000], Step [2/9], Loss: 68662.6484\n",
      "Epoch [1/1000], Step [3/9], Loss: 67917.3594\n",
      "Epoch [1/1000], Step [4/9], Loss: 68322.5547\n",
      "Epoch [1/1000], Step [5/9], Loss: 67475.3047\n",
      "Epoch [1/1000], Step [6/9], Loss: 64617.7109\n",
      "Epoch [1/1000], Step [7/9], Loss: 68181.2578\n",
      "Epoch [1/1000], Step [8/9], Loss: 69043.6484\n",
      "Epoch [1/1000], Step [9/9], Loss: 66362.3906\n",
      "Epoch [201/1000], Step [1/9], Loss: 4363.5029\n",
      "Epoch [201/1000], Step [2/9], Loss: 5412.5591\n",
      "Epoch [201/1000], Step [3/9], Loss: 5129.7344\n",
      "Epoch [201/1000], Step [4/9], Loss: 5534.8452\n",
      "Epoch [201/1000], Step [5/9], Loss: 4289.8877\n",
      "Epoch [201/1000], Step [6/9], Loss: 4788.3652\n",
      "Epoch [201/1000], Step [7/9], Loss: 5136.6724\n",
      "Epoch [201/1000], Step [8/9], Loss: 4955.5010\n",
      "Epoch [201/1000], Step [9/9], Loss: 4518.2021\n",
      "Epoch [401/1000], Step [1/9], Loss: 5077.8247\n",
      "Epoch [401/1000], Step [2/9], Loss: 4271.1973\n",
      "Epoch [401/1000], Step [3/9], Loss: 4837.5322\n",
      "Epoch [401/1000], Step [4/9], Loss: 4783.2520\n",
      "Epoch [401/1000], Step [5/9], Loss: 5421.6812\n",
      "Epoch [401/1000], Step [6/9], Loss: 4273.8325\n",
      "Epoch [401/1000], Step [7/9], Loss: 4458.4966\n",
      "Epoch [401/1000], Step [8/9], Loss: 4568.7441\n",
      "Epoch [401/1000], Step [9/9], Loss: 5675.4854\n",
      "Epoch [601/1000], Step [1/9], Loss: 5131.4590\n",
      "Epoch [601/1000], Step [2/9], Loss: 4741.0435\n",
      "Epoch [601/1000], Step [3/9], Loss: 4005.9556\n",
      "Epoch [601/1000], Step [4/9], Loss: 4909.0977\n",
      "Epoch [601/1000], Step [5/9], Loss: 4699.4106\n",
      "Epoch [601/1000], Step [6/9], Loss: 4121.8760\n",
      "Epoch [601/1000], Step [7/9], Loss: 4120.9043\n",
      "Epoch [601/1000], Step [8/9], Loss: 4713.1025\n",
      "Epoch [601/1000], Step [9/9], Loss: 4926.5083\n",
      "Epoch [801/1000], Step [1/9], Loss: 3953.2190\n",
      "Epoch [801/1000], Step [2/9], Loss: 4269.2305\n",
      "Epoch [801/1000], Step [3/9], Loss: 4620.1284\n",
      "Epoch [801/1000], Step [4/9], Loss: 4531.3325\n",
      "Epoch [801/1000], Step [5/9], Loss: 4658.3345\n",
      "Epoch [801/1000], Step [6/9], Loss: 4615.0020\n",
      "Epoch [801/1000], Step [7/9], Loss: 4304.6768\n",
      "Epoch [801/1000], Step [8/9], Loss: 4741.6914\n",
      "Epoch [801/1000], Step [9/9], Loss: 3212.1521\n",
      "Epoch [1001/1000], Step [1/9], Loss: 4661.5674\n",
      "Epoch [1001/1000], Step [2/9], Loss: 4454.5132\n",
      "Epoch [1001/1000], Step [3/9], Loss: 4269.0757\n",
      "Epoch [1001/1000], Step [4/9], Loss: 4574.0088\n",
      "Epoch [1001/1000], Step [5/9], Loss: 5090.2827\n",
      "Epoch [1001/1000], Step [6/9], Loss: 3947.1619\n",
      "Epoch [1001/1000], Step [7/9], Loss: 4322.8652\n",
      "Epoch [1001/1000], Step [8/9], Loss: 5313.2622\n",
      "Epoch [1001/1000], Step [9/9], Loss: 3871.0972\n"
     ]
    }
   ],
   "source": [
    "optimizer = torch.optim.Adam(model.parameters(),lr=0.001)\n",
    "\n",
    "total_step = len(train_loader)\n",
    "num_epochs = 1000\n",
    "\n",
    "for epoch in range(num_epochs+1):\n",
    "    for i, (features,target) in enumerate(train_loader):\n",
    "        output = model(features)\n",
    "        loss = loss_fn(output, target)\n",
    "        optimizer.zero_grad()\n",
    "        loss.backward()\n",
    "        optimizer.step()\n",
    "        \n",
    "        if(epoch % 200 ==0):\n",
    "            print('Epoch [{}/{}], Step [{}/{}], Loss: {:.4f}'.format(epoch+1,num_epochs, i+1, total_step,loss.item()))"
   ]
  },
  {
   "cell_type": "code",
   "execution_count": 138,
   "metadata": {},
   "outputs": [
    {
     "name": "stdout",
     "output_type": "stream",
     "text": [
      "(2178, 1)\n",
      "(2178, 1)\n"
     ]
    }
   ],
   "source": [
    "# Evaluating\n",
    "model.eval()\n",
    "with torch.no_grad():\n",
    "    y_pred_tensor = model(x_test_tensor)\n",
    "    \n",
    "y_pred = y_pred_tensor.detach().numpy()\n",
    "print(y_pred.shape)\n",
    "print(y_test.values.shape)"
   ]
  },
  {
   "cell_type": "code",
   "execution_count": 139,
   "metadata": {},
   "outputs": [
    {
     "name": "stdout",
     "output_type": "stream",
     "text": [
      "R2-Score:  0.9603067974313069\n"
     ]
    },
    {
     "data": {
      "image/png": "[encoded data removed]",
      "text/plain": [
       "<Figure size 576x576 with 1 Axes>"
      ]
     },
     "metadata": {
      "needs_background": "light"
     },
     "output_type": "display_data"
    }
   ],
   "source": [
    "# R2-Score is almost same:\n",
    "print(\"R2-Score: \",sklearn.metrics.r2_score(y_test,y_pred))\n",
    "plt.figure(figsize=(8,8))\n",
    "plt.scatter(y_pred,y_test.values,s=250)\n",
    "plt.xlabel(\"Actual Count\")\n",
    "plt.ylabel(\"Predicted Count\")\n",
    "plt.show()"
   ]
  },
  {
   "cell_type": "markdown",
   "metadata": {},
   "source": [
    "# 07-Effect_of_Sigmoid"
   ]
  },
  {
   "cell_type": "code",
   "execution_count": 144,
   "metadata": {},
   "outputs": [
    {
     "name": "stderr",
     "output_type": "stream",
     "text": [
      "\r\n",
      "(dot.exe:7152): Pango-WARNING **: couldn't load font \"Times Not-Rotated 10\", falling back to \"Sans Not-Rotated 10\", expect ugly output.\r\n"
     ]
    },
    {
     "data": {
      "image/svg+xml": [
       "<?xml version=\"1.0\" encoding=\"UTF-8\" standalone=\"no\"?>\r\n",
       "<!DOCTYPE svg PUBLIC \"-//W3C//DTD SVG 1.1//EN\"\r\n",
       " \"http://www.w3.org/Graphics/SVG/1.1/DTD/svg11.dtd\">\r\n",
       "<!-- Generated by graphviz version 2.44.2~dev.20200815.1738 (20200815.1738)\r\n",
       " -->\r\n",
       "<!-- Pages: 1 -->\r\n",
       "<svg width=\"378pt\" height=\"108pt\"\r\n",
       " viewBox=\"0.00 0.00 378.00 108.00\" xmlns=\"http://www.w3.org/2000/svg\" xmlns:xlink=\"http://www.w3.org/1999/xlink\">\r\n",
       "<g id=\"graph0\" class=\"graph\" transform=\"scale(1 1) rotate(0) translate(72 72)\">\r\n",
       "<polygon fill=\"#ffffff\" stroke=\"transparent\" points=\"-72,36 -72,-72 306,-72 306,36 -72,36\"/>\r\n",
       "<!-- /outputs/5 -->\r\n",
       "<g id=\"node1\" class=\"node\">\r\n",
       "<title>/outputs/5</title>\r\n",
       "<polygon fill=\"#e8e8e8\" stroke=\"#000000\" points=\"54,-36 0,-36 0,0 54,0 54,-36\"/>\r\n",
       "<text text-anchor=\"start\" x=\"14\" y=\"-15\" font-family=\"Times\" font-size=\"10.00\" fill=\"#000000\">Linear</text>\r\n",
       "</g>\r\n",
       "<!-- /outputs/6 -->\r\n",
       "<g id=\"node2\" class=\"node\">\r\n",
       "<title>/outputs/6</title>\r\n",
       "<polygon fill=\"#e8e8e8\" stroke=\"#000000\" points=\"144,-36 90,-36 90,0 144,0 144,-36\"/>\r\n",
       "<text text-anchor=\"start\" x=\"100\" y=\"-15\" font-family=\"Times\" font-size=\"10.00\" fill=\"#000000\">Sigmoid</text>\r\n",
       "</g>\r\n",
       "<!-- /outputs/5&#45;&gt;/outputs/6 -->\r\n",
       "<g id=\"edge1\" class=\"edge\">\r\n",
       "<title>/outputs/5&#45;&gt;/outputs/6</title>\r\n",
       "<path fill=\"none\" stroke=\"#000000\" d=\"M54.4,-18C62.39,-18 71.31,-18 79.82,-18\"/>\r\n",
       "<polygon fill=\"#000000\" stroke=\"#000000\" points=\"79.92,-21.5 89.92,-18 79.92,-14.5 79.92,-21.5\"/>\r\n",
       "</g>\r\n",
       "<!-- /outputs/7 -->\r\n",
       "<g id=\"node3\" class=\"node\">\r\n",
       "<title>/outputs/7</title>\r\n",
       "<polygon fill=\"#e8e8e8\" stroke=\"#000000\" points=\"234,-36 180,-36 180,0 234,0 234,-36\"/>\r\n",
       "<text text-anchor=\"start\" x=\"194\" y=\"-15\" font-family=\"Times\" font-size=\"10.00\" fill=\"#000000\">Linear</text>\r\n",
       "</g>\r\n",
       "<!-- /outputs/6&#45;&gt;/outputs/7 -->\r\n",
       "<g id=\"edge2\" class=\"edge\">\r\n",
       "<title>/outputs/6&#45;&gt;/outputs/7</title>\r\n",
       "<path fill=\"none\" stroke=\"#000000\" d=\"M144.4,-18C152.39,-18 161.31,-18 169.82,-18\"/>\r\n",
       "<polygon fill=\"#000000\" stroke=\"#000000\" points=\"169.92,-21.5 179.92,-18 169.92,-14.5 169.92,-21.5\"/>\r\n",
       "</g>\r\n",
       "</g>\r\n",
       "</svg>\r\n"
      ],
      "text/plain": [
       "<hiddenlayer.graph.Graph at 0x1e3905c0>"
      ]
     },
     "execution_count": 144,
     "metadata": {},
     "output_type": "execute_result"
    }
   ],
   "source": [
    "model = torch.nn.Sequential(torch.nn.Linear(inp,hid),\n",
    "                            torch.nn.Sigmoid(),\n",
    "                           torch.nn.Linear(hid,out))\n",
    "\n",
    "hl.build_graph(model,torch.zeros([10,inp]))"
   ]
  },
  {
   "cell_type": "code",
   "execution_count": 145,
   "metadata": {},
   "outputs": [
    {
     "name": "stdout",
     "output_type": "stream",
     "text": [
      "Epoch [1/1000], Step [1/9], Loss: 66810.6094\n",
      "Epoch [1/1000], Step [2/9], Loss: 71468.6484\n",
      "Epoch [1/1000], Step [3/9], Loss: 63048.5625\n",
      "Epoch [1/1000], Step [4/9], Loss: 69293.1484\n",
      "Epoch [1/1000], Step [5/9], Loss: 73482.7266\n",
      "Epoch [1/1000], Step [6/9], Loss: 62764.1523\n",
      "Epoch [1/1000], Step [7/9], Loss: 74056.5156\n",
      "Epoch [1/1000], Step [8/9], Loss: 74268.2578\n",
      "Epoch [1/1000], Step [9/9], Loss: 72164.7969\n",
      "Epoch [201/1000], Step [1/9], Loss: 64833.8047\n",
      "Epoch [201/1000], Step [2/9], Loss: 65707.8047\n",
      "Epoch [201/1000], Step [3/9], Loss: 67754.4844\n",
      "Epoch [201/1000], Step [4/9], Loss: 66408.3750\n",
      "Epoch [201/1000], Step [5/9], Loss: 63267.2656\n",
      "Epoch [201/1000], Step [6/9], Loss: 66112.6172\n",
      "Epoch [201/1000], Step [7/9], Loss: 60785.6836\n",
      "Epoch [201/1000], Step [8/9], Loss: 69800.6797\n",
      "Epoch [201/1000], Step [9/9], Loss: 59415.7188\n",
      "Epoch [401/1000], Step [1/9], Loss: 60204.0195\n",
      "Epoch [401/1000], Step [2/9], Loss: 69031.0391\n",
      "Epoch [401/1000], Step [3/9], Loss: 62103.5508\n",
      "Epoch [401/1000], Step [4/9], Loss: 54905.2852\n",
      "Epoch [401/1000], Step [5/9], Loss: 61382.4570\n",
      "Epoch [401/1000], Step [6/9], Loss: 60543.7305\n",
      "Epoch [401/1000], Step [7/9], Loss: 60793.9609\n",
      "Epoch [401/1000], Step [8/9], Loss: 59452.8672\n",
      "Epoch [401/1000], Step [9/9], Loss: 64719.8867\n",
      "Epoch [601/1000], Step [1/9], Loss: 54892.9062\n",
      "Epoch [601/1000], Step [2/9], Loss: 58506.4883\n",
      "Epoch [601/1000], Step [3/9], Loss: 63596.1250\n",
      "Epoch [601/1000], Step [4/9], Loss: 58610.3945\n",
      "Epoch [601/1000], Step [5/9], Loss: 59040.7812\n",
      "Epoch [601/1000], Step [6/9], Loss: 57651.4766\n",
      "Epoch [601/1000], Step [7/9], Loss: 53936.4102\n",
      "Epoch [601/1000], Step [8/9], Loss: 58829.9141\n",
      "Epoch [601/1000], Step [9/9], Loss: 54497.1914\n",
      "Epoch [801/1000], Step [1/9], Loss: 52274.5547\n",
      "Epoch [801/1000], Step [2/9], Loss: 55446.0391\n",
      "Epoch [801/1000], Step [3/9], Loss: 55738.8906\n",
      "Epoch [801/1000], Step [4/9], Loss: 55340.8633\n",
      "Epoch [801/1000], Step [5/9], Loss: 53136.5469\n",
      "Epoch [801/1000], Step [6/9], Loss: 54408.5391\n",
      "Epoch [801/1000], Step [7/9], Loss: 48325.1875\n",
      "Epoch [801/1000], Step [8/9], Loss: 50554.7617\n",
      "Epoch [801/1000], Step [9/9], Loss: 59696.8008\n",
      "Epoch [1001/1000], Step [1/9], Loss: 49702.5273\n",
      "Epoch [1001/1000], Step [2/9], Loss: 46451.1328\n",
      "Epoch [1001/1000], Step [3/9], Loss: 48675.6367\n",
      "Epoch [1001/1000], Step [4/9], Loss: 50648.7383\n",
      "Epoch [1001/1000], Step [5/9], Loss: 49163.3945\n",
      "Epoch [1001/1000], Step [6/9], Loss: 52837.9961\n",
      "Epoch [1001/1000], Step [7/9], Loss: 55067.6094\n",
      "Epoch [1001/1000], Step [8/9], Loss: 49906.7188\n",
      "Epoch [1001/1000], Step [9/9], Loss: 47055.9180\n"
     ]
    }
   ],
   "source": [
    "optimizer = torch.optim.Adam(model.parameters(),lr=0.001)\n",
    "\n",
    "total_step = len(train_loader)\n",
    "num_epochs = 1000\n",
    "\n",
    "for epoch in range(num_epochs+1):\n",
    "    for i, (features,target) in enumerate(train_loader):\n",
    "        output = model(features)\n",
    "        loss = loss_fn(output, target)\n",
    "        optimizer.zero_grad()\n",
    "        loss.backward()\n",
    "        optimizer.step()\n",
    "        \n",
    "        if(epoch % 200 ==0):\n",
    "            print('Epoch [{}/{}], Step [{}/{}], Loss: {:.4f}'.format(epoch+1,num_epochs, i+1, total_step,loss.item()))"
   ]
  },
  {
   "cell_type": "code",
   "execution_count": 146,
   "metadata": {},
   "outputs": [
    {
     "name": "stdout",
     "output_type": "stream",
     "text": [
      "(2178, 1)\n",
      "(2178, 1)\n"
     ]
    }
   ],
   "source": [
    "# Evaluating\n",
    "model.eval()\n",
    "with torch.no_grad():\n",
    "    y_pred_tensor = model(x_test_tensor)\n",
    "    \n",
    "y_pred = y_pred_tensor.detach().numpy()\n",
    "print(y_pred.shape)\n",
    "print(y_test.values.shape)"
   ]
  },
  {
   "cell_type": "code",
   "execution_count": 147,
   "metadata": {},
   "outputs": [
    {
     "name": "stdout",
     "output_type": "stream",
     "text": [
      "R2-Score:  -0.5236482553640791\n"
     ]
    },
    {
     "data": {
      "image/png": "[encoded data removed]",
      "text/plain": [
       "<Figure size 576x576 with 1 Axes>"
      ]
     },
     "metadata": {
      "needs_background": "light"
     },
     "output_type": "display_data"
    }
   ],
   "source": [
    "# R2-Score is extremely bad:\n",
    "print(\"R2-Score: \",sklearn.metrics.r2_score(y_test,y_pred))\n",
    "plt.figure(figsize=(8,8))\n",
    "plt.scatter(y_pred,y_test.values,s=250)\n",
    "plt.xlabel(\"Actual Count\")\n",
    "plt.ylabel(\"Predicted Count\")\n",
    "plt.show()"
   ]
  },
  {
   "cell_type": "code",
   "execution_count": null,
   "metadata": {},
   "outputs": [],
   "source": [
    "# Hence from all above use:\n",
    "# Using only ReLU performed the best model."
   ]
  }
 ],
 "metadata": {
  "kernelspec": {
   "display_name": "Python 3",
   "language": "python",
   "name": "python3"
  },
  "language_info": {
   "codemirror_mode": {
    "name": "ipython",
    "version": 3
   },
   "file_extension": ".py",
   "mimetype": "text/x-python",
   "name": "python",
   "nbconvert_exporter": "python",
   "pygments_lexer": "ipython3",
   "version": "3.7.3"
  }
 },
 "nbformat": 4,
 "nbformat_minor": 2
}
